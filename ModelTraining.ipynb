{
 "cells": [
  {
   "cell_type": "code",
   "execution_count": 2,
   "metadata": {
    "colab": {
     "base_uri": "https://localhost:8080/",
     "height": 34
    },
    "colab_type": "code",
    "id": "aHM8HwkpOkRe",
    "outputId": "fd8db6fd-7d52-4087-ef1e-0a5c15588128"
   },
   "outputs": [],
   "source": [
    "import numpy as np\n",
    "import csv\n",
    "import random\n",
    "import pickle\n",
    "\n",
    "from sklearn.linear_model import LinearRegression, LogisticRegression\n",
    "from sklearn.ensemble import AdaBoostClassifier\n",
    "from catboost import CatBoostClassifier"
   ]
  },
  {
   "cell_type": "code",
   "execution_count": 3,
   "metadata": {
    "colab": {},
    "colab_type": "code",
    "id": "KcUMfjSROwja"
   },
   "outputs": [],
   "source": [
    "f = open('./vectorized.csv')\n",
    "data_0 = list()\n",
    "data_1 = list()"
   ]
  },
  {
   "cell_type": "code",
   "execution_count": null,
   "metadata": {
    "colab": {},
    "colab_type": "code",
    "id": "8RAVn-zdPKS2"
   },
   "outputs": [],
   "source": [
    "csvreader = csv.reader(f)\n",
    "for row in csvreader:\n",
    "    row = [float(r) for r in row]\n",
    "    if row[0] == 0:\n",
    "        data_0.append(row)\n",
    "    else:\n",
    "        data_1.append(row)\n",
    "f.close()"
   ]
  },
  {
   "cell_type": "code",
   "execution_count": null,
   "metadata": {
    "colab": {},
    "colab_type": "code",
    "id": "HiMYc7i1PTlt"
   },
   "outputs": [],
   "source": [
    "# balance the data\n",
    "random.shuffle(data_0)\n",
    "data_0 = data_0[:len(data_1)]\n",
    "assert(len(data_0) == len(data_1))\n",
    "print(len(data_0))"
   ]
  },
  {
   "cell_type": "code",
   "execution_count": null,
   "metadata": {
    "colab": {},
    "colab_type": "code",
    "id": "MHO_6ttjPt2J"
   },
   "outputs": [],
   "source": [
    "training_set = np.array(data_0[:5000] + data_1[:5000])\n",
    "dev_set = np.array(data_0[5000:] + data_1[5000:])\n",
    "\n",
    "training_labels = training_set[:, 0].astype(int)\n",
    "training_data = training_set[:, 1:].astype('float32')\n",
    "dev_labels = dev_set[:, 0].astype(int)\n",
    "dev_data = dev_set[:, 1:].astype('float32')"
   ]
  },
  {
   "cell_type": "code",
   "execution_count": null,
   "metadata": {
    "colab": {},
    "colab_type": "code",
    "id": "QatTpcMTQvZq"
   },
   "outputs": [],
   "source": [
    "# normalize features\n",
    "_mean = np.mean(training_data, axis=0)\n",
    "_std = np.std(training_data, axis=0)\n",
    "training_data = (training_data - _mean) / _std\n",
    "dev_data = (dev_data - _mean) / _std"
   ]
  },
  {
   "cell_type": "code",
   "execution_count": null,
   "metadata": {},
   "outputs": [],
   "source": [
    "clf = LinearRegression()\n",
    "clf.fit(training_data, training_labels)\n",
    "clf.score(dev_data, dev_labels)"
   ]
  },
  {
   "cell_type": "code",
   "execution_count": null,
   "metadata": {},
   "outputs": [],
   "source": [
    "clf = LogisticRegression()\n",
    "clf.fit(training_data, training_labels)\n",
    "clf.score(dev_data, dev_labels)"
   ]
  },
  {
   "cell_type": "code",
   "execution_count": null,
   "metadata": {},
   "outputs": [],
   "source": [
    "clf = AdaBoostClassifier()\n",
    "clf.fit(training_data, training_labels)\n",
    "clf.score(dev_data, dev_labels)"
   ]
  },
  {
   "cell_type": "code",
   "execution_count": null,
   "metadata": {},
   "outputs": [],
   "source": [
    "clf = CatBoostClassifier(iterations=10, learning_rate=1, depth=10)\n",
    "clf.fit(training_data, training_labels, verbose=False)\n",
    "clf.score(dev_data, dev_labels)"
   ]
  },
  {
   "cell_type": "code",
   "execution_count": null,
   "metadata": {},
   "outputs": [],
   "source": [
    "outf = open(\"final_model.pickle\", 'wb')\n",
    "pickle.dump(clf, outf)\n",
    "outf.close()"
   ]
  }
 ],
 "metadata": {
  "colab": {
   "collapsed_sections": [],
   "include_colab_link": true,
   "name": "Model1.ipynb",
   "provenance": [],
   "version": "0.3.2"
  },
  "kernelspec": {
   "display_name": "Python 3",
   "language": "python",
   "name": "python3"
  },
  "language_info": {
   "codemirror_mode": {
    "name": "ipython",
    "version": 3
   },
   "file_extension": ".py",
   "mimetype": "text/x-python",
   "name": "python",
   "nbconvert_exporter": "python",
   "pygments_lexer": "ipython3",
   "version": "3.6.5"
  }
 },
 "nbformat": 4,
 "nbformat_minor": 1
}
