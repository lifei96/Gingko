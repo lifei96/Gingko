{
 "cells": [
  {
   "cell_type": "code",
   "execution_count": 1,
   "metadata": {
    "colab": {
     "base_uri": "https://localhost:8080/",
     "height": 34
    },
    "colab_type": "code",
    "id": "aHM8HwkpOkRe",
    "outputId": "fd8db6fd-7d52-4087-ef1e-0a5c15588128"
   },
   "outputs": [],
   "source": [
    "import numpy as np\n",
    "import csv\n",
    "import random\n",
    "import pickle\n",
    "\n",
    "from sklearn.linear_model import LogisticRegression\n",
    "from sklearn.ensemble import AdaBoostClassifier, RandomForestClassifier\n",
    "from sklearn.neural_network import MLPClassifier\n",
    "from catboost import CatBoostClassifier"
   ]
  },
  {
   "cell_type": "code",
   "execution_count": 2,
   "metadata": {
    "colab": {},
    "colab_type": "code",
    "id": "KcUMfjSROwja"
   },
   "outputs": [],
   "source": [
    "f = open('./vectorized_large.csv')\n",
    "data_0 = list()\n",
    "data_1 = list()"
   ]
  },
  {
   "cell_type": "code",
   "execution_count": 3,
   "metadata": {
    "colab": {},
    "colab_type": "code",
    "id": "8RAVn-zdPKS2"
   },
   "outputs": [],
   "source": [
    "csvreader = csv.reader(f)\n",
    "for row in csvreader:\n",
    "    row = [float(r) for r in row]\n",
    "    if row[0] == 0:\n",
    "        data_0.append(row)\n",
    "    else:\n",
    "        data_1.append(row)\n",
    "f.close()"
   ]
  },
  {
   "cell_type": "code",
   "execution_count": 4,
   "metadata": {
    "colab": {},
    "colab_type": "code",
    "id": "HiMYc7i1PTlt"
   },
   "outputs": [
    {
     "name": "stdout",
     "output_type": "stream",
     "text": [
      "6400\n"
     ]
    }
   ],
   "source": [
    "assert(len(data_0) == len(data_1))\n",
    "print(len(data_0))"
   ]
  },
  {
   "cell_type": "code",
   "execution_count": 5,
   "metadata": {
    "colab": {},
    "colab_type": "code",
    "id": "MHO_6ttjPt2J"
   },
   "outputs": [],
   "source": [
    "training_set = np.array(data_0[:5000] + data_1[:5000])\n",
    "dev_set = np.array(data_0[5000:] + data_1[5000:])\n",
    "\n",
    "training_labels = training_set[:, 0].astype(int)\n",
    "training_data = training_set[:, 1:].astype('float32')\n",
    "dev_labels = dev_set[:, 0].astype(int)\n",
    "dev_data = dev_set[:, 1:].astype('float32')"
   ]
  },
  {
   "cell_type": "code",
   "execution_count": 6,
   "metadata": {
    "colab": {},
    "colab_type": "code",
    "id": "QatTpcMTQvZq"
   },
   "outputs": [
    {
     "name": "stdout",
     "output_type": "stream",
     "text": [
      "[35.91339874267578, 3.4475998878479004, 67.10360717773438, 0.6936891674995422, 0.6221207976341248, 0.9910552501678467]\n",
      "[96.64471435546875, 14.680747985839844, 138.3404998779297, 0.8288413286209106, 0.35737043619155884, 0.0016996299382299185]\n",
      "[-0.37160229682922363, -0.23483815789222717, -0.5985492467880249, -0.8369384407997131, -1.7408289909362793, -10.385951042175293]\n",
      "[20.219280242919922, 12.230466842651367, 16.901025772094727, 8.815089225769043, 1.0573879480361938, 1.324949026107788]\n"
     ]
    }
   ],
   "source": [
    "# normalize features\n",
    "_mean = np.mean(training_data, axis=0)\n",
    "_std = np.std(training_data, axis=0)\n",
    "training_data = (training_data - _mean) / _std\n",
    "dev_data = (dev_data - _mean) / _std\n",
    "print(_mean.tolist())\n",
    "print(_std.tolist())\n",
    "print(np.amin(training_data, axis=0).tolist())\n",
    "print(np.amax(dev_data, axis=0).tolist())"
   ]
  },
  {
   "cell_type": "code",
   "execution_count": 8,
   "metadata": {},
   "outputs": [
    {
     "data": {
      "text/plain": [
       "0.7389285714285714"
      ]
     },
     "execution_count": 8,
     "metadata": {},
     "output_type": "execute_result"
    }
   ],
   "source": [
    "clf = LogisticRegression()\n",
    "clf.fit(training_data, training_labels)\n",
    "clf.score(dev_data, dev_labels)"
   ]
  },
  {
   "cell_type": "code",
   "execution_count": 9,
   "metadata": {},
   "outputs": [
    {
     "data": {
      "text/plain": [
       "0.8835714285714286"
      ]
     },
     "execution_count": 9,
     "metadata": {},
     "output_type": "execute_result"
    }
   ],
   "source": [
    "clf = AdaBoostClassifier()\n",
    "clf.fit(training_data, training_labels)\n",
    "clf.score(dev_data, dev_labels)"
   ]
  },
  {
   "cell_type": "code",
   "execution_count": 10,
   "metadata": {},
   "outputs": [
    {
     "data": {
      "text/plain": [
       "0.9553571428571429"
      ]
     },
     "execution_count": 10,
     "metadata": {},
     "output_type": "execute_result"
    }
   ],
   "source": [
    "clf = CatBoostClassifier(iterations=10, learning_rate=1, depth=10)\n",
    "clf.fit(training_data, training_labels, verbose=False)\n",
    "clf.score(dev_data, dev_labels)"
   ]
  },
  {
   "cell_type": "code",
   "execution_count": 11,
   "metadata": {},
   "outputs": [
    {
     "data": {
      "text/plain": [
       "0.9221428571428572"
      ]
     },
     "execution_count": 11,
     "metadata": {},
     "output_type": "execute_result"
    }
   ],
   "source": [
    "clf = MLPClassifier()\n",
    "clf.fit(training_data, training_labels)\n",
    "clf.score(dev_data, dev_labels)"
   ]
  },
  {
   "cell_type": "code",
   "execution_count": 12,
   "metadata": {},
   "outputs": [
    {
     "data": {
      "text/plain": [
       "0.9721428571428572"
      ]
     },
     "execution_count": 12,
     "metadata": {},
     "output_type": "execute_result"
    }
   ],
   "source": [
    "clf = RandomForestClassifier()\n",
    "clf.fit(training_data, training_labels)\n",
    "clf.score(dev_data, dev_labels)"
   ]
  },
  {
   "cell_type": "code",
   "execution_count": 13,
   "metadata": {},
   "outputs": [],
   "source": [
    "outf = open(\"final_model.pickle\", 'wb')\n",
    "pickle.dump(clf, outf)\n",
    "outf.close()"
   ]
  },
  {
   "cell_type": "code",
   "execution_count": null,
   "metadata": {},
   "outputs": [],
   "source": []
  }
 ],
 "metadata": {
  "colab": {
   "collapsed_sections": [],
   "include_colab_link": true,
   "name": "Model1.ipynb",
   "provenance": [],
   "version": "0.3.2"
  },
  "kernelspec": {
   "display_name": "Python 3",
   "language": "python",
   "name": "python3"
  },
  "language_info": {
   "codemirror_mode": {
    "name": "ipython",
    "version": 3
   },
   "file_extension": ".py",
   "mimetype": "text/x-python",
   "name": "python",
   "nbconvert_exporter": "python",
   "pygments_lexer": "ipython3",
   "version": "3.6.5"
  }
 },
 "nbformat": 4,
 "nbformat_minor": 1
}
