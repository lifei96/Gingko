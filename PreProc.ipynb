{
 "cells": [
  {
   "cell_type": "code",
   "execution_count": null,
   "metadata": {
    "collapsed": true
   },
   "outputs": [],
   "source": [
    "from extractor import get_img_number, get_ads_number, get_reading_level, \n",
    "                       social_media_score, citation_score, sentiment_analysis\n",
    "\n",
    "mean = np.array([0, 0, 0, 0, 0, 0])\n",
    "std = np.array([1, 1, 1, 1, 1, 1])\n",
    "\n",
    "def preproc(html):\n",
    "    vec = np.array([get_img_number(html), get_ads_number(html), \n",
    "           get_reading_level(html), social_media_score(html),\n",
    "           citation_score(html), sentiment_analysis(html)\n",
    "          ])\n",
    "    vec = (vec - mean) / std\n",
    "    return vec"
   ]
  }
 ],
 "metadata": {
  "kernelspec": {
   "display_name": "Python 3",
   "language": "python",
   "name": "python3"
  },
  "language_info": {
   "codemirror_mode": {
    "name": "ipython",
    "version": 3
   },
   "file_extension": ".py",
   "mimetype": "text/x-python",
   "name": "python",
   "nbconvert_exporter": "python",
   "pygments_lexer": "ipython3",
   "version": "3.6.3"
  }
 },
 "nbformat": 4,
 "nbformat_minor": 2
}
