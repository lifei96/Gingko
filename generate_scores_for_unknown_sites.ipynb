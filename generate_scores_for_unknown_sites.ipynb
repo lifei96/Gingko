{
 "cells": [
  {
   "cell_type": "code",
   "execution_count": null,
   "metadata": {},
   "outputs": [],
   "source": [
    "import numpy as np\n",
    "import random\n",
    "import pickle\n",
    "import pymysql\n",
    "import pymysql.cursors\n",
    "from sklearn.ensemble import RandomForestClassifier\n",
    "from tqdm import tqdm\n",
    "from extractor_accelerated import *"
   ]
  },
  {
   "cell_type": "code",
   "execution_count": null,
   "metadata": {},
   "outputs": [],
   "source": [
    "f = open(\"final_model.pickle\", 'rb')\n",
    "clf = pickle.load(f)\n",
    "f.close()"
   ]
  },
  {
   "cell_type": "code",
   "execution_count": null,
   "metadata": {},
   "outputs": [],
   "source": [
    "conn = pymysql.connect(host='127.0.0.1',port=3306,user='root',password='root',db='gingko')\n",
    "cursor = conn.cursor()\n",
    "cursor.execute('select count(*) from web_pages2')\n",
    "values = cursor.fetchall()\n",
    "print(values[0][0])"
   ]
  },
  {
   "cell_type": "code",
   "execution_count": null,
   "metadata": {},
   "outputs": [],
   "source": [
    "cursor.execute('select site, html from web_pages2')"
   ]
  },
  {
   "cell_type": "code",
   "execution_count": null,
   "metadata": {},
   "outputs": [],
   "source": [
    "scores = dict()\n",
    "counts = dict()\n",
    "_mean = np.array([35.9133987, 3.4475999, 67.1036072, 0.6936892, 0.6221208, 0.9910553])\n",
    "_std = np.array([96.6447144, 14.6807480, 138.3404999, 0.8288413, 0.3573704, 0.0016996])"
   ]
  },
  {
   "cell_type": "code",
   "execution_count": null,
   "metadata": {},
   "outputs": [],
   "source": [
    "page = cursor.fetchone()\n",
    "for p in tqdm(range(130000)):\n",
    "    soup = BeautifulSoup(page[1], 'html.parser')\n",
    "    vector = np.array([[0.0, 0.0, 0.0, 0.0, 0.0, 0.0]])\n",
    "    vector[0,0] = get_img_number(soup)\n",
    "    vector[0,1] = get_ads_number(soup)\n",
    "    vector[0,2] = get_reading_level(page[1])\n",
    "    vector[0,3] = social_media_score(soup)\n",
    "    vector[0,4] = citation_score(soup)\n",
    "    vector[0,5] = sentiment_analysis(page[1])\n",
    "    vector = (vector - _mean) / _std\n",
    "    curr_score = clf.predict_proba(vector)[0,0]\n",
    "    curr_site = page[0]\n",
    "    if curr_site not in counts:\n",
    "        counts[curr_site] = 1\n",
    "        scores[curr_site] = curr_score\n",
    "    else:\n",
    "        counts[curr_site] += 1\n",
    "        scores[curr_site] = (scores[curr_site]*(counts[curr_site]-1) + curr_score) / counts[curr_site]\n",
    "    #\n",
    "    page = cursor.fetchone()"
   ]
  },
  {
   "cell_type": "code",
   "execution_count": null,
   "metadata": {},
   "outputs": [],
   "source": [
    "outf = open(\"scores.pickle\", 'wb')\n",
    "pickle.dump(scores, outf)\n",
    "outf.close()"
   ]
  },
  {
   "cell_type": "code",
   "execution_count": null,
   "metadata": {},
   "outputs": [],
   "source": []
  }
 ],
 "metadata": {
  "kernelspec": {
   "display_name": "Python 3",
   "language": "python",
   "name": "python3"
  },
  "language_info": {
   "codemirror_mode": {
    "name": "ipython",
    "version": 3
   },
   "file_extension": ".py",
   "mimetype": "text/x-python",
   "name": "python",
   "nbconvert_exporter": "python",
   "pygments_lexer": "ipython3",
   "version": "3.6.5"
  }
 },
 "nbformat": 4,
 "nbformat_minor": 2
}
