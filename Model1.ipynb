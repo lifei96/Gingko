{
 "cells": [
  {
   "cell_type": "markdown",
   "metadata": {
    "colab_type": "text",
    "id": "view-in-github"
   },
   "source": [
    "<a href=\"https://colab.research.google.com/github/lifei96/Gingko/blob/master/Model1.ipynb\" target=\"_parent\"><img src=\"https://colab.research.google.com/assets/colab-badge.svg\" alt=\"Open In Colab\"/></a>"
   ]
  },
  {
   "cell_type": "code",
   "execution_count": 1,
   "metadata": {
    "colab": {},
    "colab_type": "code",
    "collapsed": false,
    "id": "KnWhVOUKOZX-"
   },
   "outputs": [
    {
     "name": "stdout",
     "output_type": "stream",
     "text": [
      "fatal: destination path 'Gingko' already exists and is not an empty directory.\r\n"
     ]
    }
   ],
   "source": [
    "!git clone https://github.com/lifei96/Gingko.git"
   ]
  },
  {
   "cell_type": "code",
   "execution_count": 2,
   "metadata": {
    "colab": {
     "base_uri": "https://localhost:8080/",
     "height": 34
    },
    "colab_type": "code",
    "collapsed": false,
    "id": "aHM8HwkpOkRe",
    "outputId": "fd8db6fd-7d52-4087-ef1e-0a5c15588128"
   },
   "outputs": [
    {
     "name": "stderr",
     "output_type": "stream",
     "text": [
      "Using TensorFlow backend.\n",
      "/usr/local/Cellar/python/3.6.4_4/Frameworks/Python.framework/Versions/3.6/lib/python3.6/importlib/_bootstrap.py:219: RuntimeWarning: compiletime version 3.5 of module 'tensorflow.python.framework.fast_tensor_util' does not match runtime version 3.6\n",
      "  return f(*args, **kwds)\n"
     ]
    }
   ],
   "source": [
    "import numpy as np\n",
    "import keras\n",
    "from keras.models import Sequential\n",
    "from keras.layers import *\n",
    "import csv\n",
    "import random"
   ]
  },
  {
   "cell_type": "code",
   "execution_count": 3,
   "metadata": {
    "colab": {},
    "colab_type": "code",
    "collapsed": true,
    "id": "KcUMfjSROwja"
   },
   "outputs": [],
   "source": [
    "f = open('Gingko/vectorized.csv')\n",
    "data_0 = list()\n",
    "data_1 = list()"
   ]
  },
  {
   "cell_type": "code",
   "execution_count": 4,
   "metadata": {
    "colab": {},
    "colab_type": "code",
    "collapsed": true,
    "id": "8RAVn-zdPKS2"
   },
   "outputs": [],
   "source": [
    "csvreader = csv.reader(f)\n",
    "for row in csvreader:\n",
    "    row = [float(r) for r in row]\n",
    "    if row[0] == 0:\n",
    "        data_0.append(row)\n",
    "    else:\n",
    "        data_1.append(row)\n",
    "f.close()"
   ]
  },
  {
   "cell_type": "code",
   "execution_count": 5,
   "metadata": {
    "colab": {},
    "colab_type": "code",
    "collapsed": true,
    "id": "HiMYc7i1PTlt"
   },
   "outputs": [],
   "source": [
    "# balance the data\n",
    "random.shuffle(data_0)\n",
    "data_0 = data_0[:len(data_1)]"
   ]
  },
  {
   "cell_type": "code",
   "execution_count": 6,
   "metadata": {
    "colab": {},
    "colab_type": "code",
    "collapsed": true,
    "id": "MHO_6ttjPt2J"
   },
   "outputs": [],
   "source": [
    "training_set = np.array(data_0[:700] + data_1[:700])\n",
    "dev_set = np.array(data_0[700:] + data_1[700:])\n",
    "\n",
    "training_labels = training_set[:, 0].astype(int)\n",
    "training_data = training_set[:, 1:].astype('float32')\n",
    "dev_labels = dev_set[:, 0].astype(int)\n",
    "dev_data = dev_set[:, 1:].astype('float32')"
   ]
  },
  {
   "cell_type": "code",
   "execution_count": 7,
   "metadata": {
    "colab": {},
    "colab_type": "code",
    "collapsed": true,
    "id": "QatTpcMTQvZq"
   },
   "outputs": [],
   "source": [
    "# normalize features\n",
    "_mean = np.mean(training_data, axis=0)\n",
    "_std = np.std(training_data, axis=0)\n",
    "training_data = (training_data - _mean) / _std\n",
    "dev_data = (dev_data - _mean) / _std"
   ]
  },
  {
   "cell_type": "code",
   "execution_count": 8,
   "metadata": {
    "colab": {
     "base_uri": "https://localhost:8080/",
     "height": 88
    },
    "colab_type": "code",
    "collapsed": false,
    "id": "GZelN8J2TrFs",
    "outputId": "f18bca8d-90d0-41ca-f48c-583af59aca78"
   },
   "outputs": [],
   "source": [
    "model = Sequential()\n",
    "model.add(Dense(units=50, activation='tanh', input_dim=6))\n",
    "model.add(Dense(units=50, activation='tanh'))\n",
    "model.add(Dense(units=2, activation='softmax'))\n",
    "model.compile(loss='sparse_categorical_crossentropy',\n",
    "              optimizer='sgd',\n",
    "              metrics=['accuracy'])"
   ]
  },
  {
   "cell_type": "code",
   "execution_count": 9,
   "metadata": {
    "colab": {},
    "colab_type": "code",
    "collapsed": false,
    "id": "3PNoxk3WUnQq"
   },
   "outputs": [
    {
     "name": "stdout",
     "output_type": "stream",
     "text": [
      "Epoch 1/100\n",
      "1400/1400 [==============================] - 0s 194us/step - loss: 0.6346 - acc: 0.6064\b\b\b\b\b\b\b\b\b\b\b\b\b\b\b\b\b\b\b\b\b\b\b\b\b\b\b\b\b\b\b\b\b\b\b\b\b\b\b\b\b\b\b\b\b\b\b\b\b\b\b\b\b\b\b\b\b\b\b\b\b\b\b\b\b\b\b\b\b\b\b\b\b\b\b\n",
      "Epoch 2/100\n",
      "1400/1400 [==============================] - 0s 47us/step - loss: 0.5815 - acc: 0.7129\b\b\b\b\b\b\b\b\b\b\b\b\b\b\b\b\b\b\b\b\b\b\b\b\b\b\b\b\b\b\b\b\b\b\b\b\b\b\b\b\b\b\b\b\b\b\b\b\b\b\b\b\b\b\b\b\b\b\b\b\b\b\b\b\b\b\b\b\b\b\b\b\b\b\b\b\b\b\b\b\b\b\b\b\b\b\b\b\b\b\b\b\b\b\b\b\b\b\b\b\b\b\b\b\b\b\b\b\b\b\b\b\b\b\b\b\b\b\b\b\b\b\b\b\b\b\b\b\b\b\b\b\b\b\b\b\b\b\b\b\b\b\b\b\b\b\b\b\b\b\b\b\b\b\b\b\b\n",
      "Epoch 3/100\n",
      "1400/1400 [==============================] - 0s 33us/step - loss: 0.5587 - acc: 0.7271\b\b\b\b\b\b\b\b\b\b\b\b\b\b\b\b\b\b\b\b\b\b\b\b\b\b\b\b\b\b\b\b\b\b\b\b\b\b\b\b\b\b\b\b\b\b\b\b\b\b\b\b\b\b\b\b\b\b\b\b\b\b\b\b\b\b\b\b\b\b\b\b\b\b\b\b\n",
      "Epoch 4/100\n",
      "1400/1400 [==============================] - 0s 36us/step - loss: 0.5467 - acc: 0.7314\b\b\b\b\b\b\b\b\b\b\b\b\b\b\b\b\b\b\b\b\b\b\b\b\b\b\b\b\b\b\b\b\b\b\b\b\b\b\b\b\b\b\b\b\b\b\b\b\b\b\b\b\b\b\b\b\b\b\b\b\b\b\b\b\b\b\b\b\b\b\b\b\b\b\b\b\n",
      "Epoch 5/100\n",
      "1400/1400 [==============================] - 0s 30us/step - loss: 0.5393 - acc: 0.7286\b\b\b\b\b\b\b\b\b\b\b\b\b\b\b\b\b\b\b\b\b\b\b\b\b\b\b\b\b\b\b\b\b\b\b\b\b\b\b\b\b\b\b\b\b\b\b\b\b\b\b\b\b\b\b\b\b\b\b\b\b\b\b\b\b\b\b\b\b\b\b\b\b\b\b\b\n",
      "Epoch 6/100\n",
      "1400/1400 [==============================] - 0s 33us/step - loss: 0.5345 - acc: 0.7386\b\b\b\b\b\b\b\b\b\b\b\b\b\b\b\b\b\b\b\b\b\b\b\b\b\b\b\b\b\b\b\b\b\b\b\b\b\b\b\b\b\b\b\b\b\b\b\b\b\b\b\b\b\b\b\b\b\b\b\b\b\b\b\b\b\b\b\b\b\b\b\b\b\b\b\b\n",
      "Epoch 7/100\n",
      "1400/1400 [==============================] - 0s 32us/step - loss: 0.5311 - acc: 0.7393\b\b\b\b\b\b\b\b\b\b\b\b\b\b\b\b\b\b\b\b\b\b\b\b\b\b\b\b\b\b\b\b\b\b\b\b\b\b\b\b\b\b\b\b\b\b\b\b\b\b\b\b\b\b\b\b\b\b\b\b\b\b\b\b\b\b\b\b\b\b\b\b\b\b\b\b\n",
      "Epoch 8/100\n",
      "1400/1400 [==============================] - 0s 31us/step - loss: 0.5284 - acc: 0.7379\b\b\b\b\b\b\b\b\b\b\b\b\b\b\b\b\b\b\b\b\b\b\b\b\b\b\b\b\b\b\b\b\b\b\b\b\b\b\b\b\b\b\b\b\b\b\b\b\b\b\b\b\b\b\b\b\b\b\b\b\b\b\b\b\b\b\b\b\b\b\b\b\b\b\b\b\n",
      "Epoch 9/100\n",
      "1400/1400 [==============================] - 0s 33us/step - loss: 0.5262 - acc: 0.7386\b\b\b\b\b\b\b\b\b\b\b\b\b\b\b\b\b\b\b\b\b\b\b\b\b\b\b\b\b\b\b\b\b\b\b\b\b\b\b\b\b\b\b\b\b\b\b\b\b\b\b\b\b\b\b\b\b\b\b\b\b\b\b\b\b\b\b\b\b\b\b\b\b\b\b\b\n",
      "Epoch 10/100\n",
      "1400/1400 [==============================] - 0s 29us/step - loss: 0.5244 - acc: 0.7393\b\b\b\b\b\b\b\b\b\b\b\b\b\b\b\b\b\b\b\b\b\b\b\b\b\b\b\b\b\b\b\b\b\b\b\b\b\b\b\b\b\b\b\b\b\b\b\b\b\b\b\b\b\b\b\b\b\b\b\b\b\b\b\b\b\b\b\b\b\b\b\b\b\b\b\b\n",
      "Epoch 11/100\n",
      "1400/1400 [==============================] - 0s 33us/step - loss: 0.5229 - acc: 0.7450\b\b\b\b\b\b\b\b\b\b\b\b\b\b\b\b\b\b\b\b\b\b\b\b\b\b\b\b\b\b\b\b\b\b\b\b\b\b\b\b\b\b\b\b\b\b\b\b\b\b\b\b\b\b\b\b\b\b\b\b\b\b\b\b\b\b\b\b\b\b\b\b\b\b\b\b\n",
      "Epoch 12/100\n",
      "1400/1400 [==============================] - 0s 31us/step - loss: 0.5217 - acc: 0.7379\b\b\b\b\b\b\b\b\b\b\b\b\b\b\b\b\b\b\b\b\b\b\b\b\b\b\b\b\b\b\b\b\b\b\b\b\b\b\b\b\b\b\b\b\b\b\b\b\b\b\b\b\b\b\b\b\b\b\b\b\b\b\b\b\b\b\b\b\b\b\b\b\b\b\b\b\n",
      "Epoch 13/100\n",
      "1400/1400 [==============================] - 0s 31us/step - loss: 0.5204 - acc: 0.7393\b\b\b\b\b\b\b\b\b\b\b\b\b\b\b\b\b\b\b\b\b\b\b\b\b\b\b\b\b\b\b\b\b\b\b\b\b\b\b\b\b\b\b\b\b\b\b\b\b\b\b\b\b\b\b\b\b\b\b\b\b\b\b\b\b\b\b\b\b\b\b\b\b\b\b\b\n",
      "Epoch 14/100\n",
      "1400/1400 [==============================] - 0s 36us/step - loss: 0.5193 - acc: 0.7400\b\b\b\b\b\b\b\b\b\b\b\b\b\b\b\b\b\b\b\b\b\b\b\b\b\b\b\b\b\b\b\b\b\b\b\b\b\b\b\b\b\b\b\b\b\b\b\b\b\b\b\b\b\b\b\b\b\b\b\b\b\b\b\b\b\b\b\b\b\b\b\b\b\b\b\b\n",
      "Epoch 15/100\n",
      "1400/1400 [==============================] - 0s 44us/step - loss: 0.5183 - acc: 0.7386\b\b\b\b\b\b\b\b\b\b\b\b\b\b\b\b\b\b\b\b\b\b\b\b\b\b\b\b\b\b\b\b\b\b\b\b\b\b\b\b\b\b\b\b\b\b\b\b\b\b\b\b\b\b\b\b\b\b\b\b\b\b\b\b\b\b\b\b\b\b\b\b\b\b\b\b\b\b\b\b\b\b\b\b\b\b\b\b\b\b\b\b\b\b\b\b\b\b\b\b\b\b\b\b\b\b\b\b\b\b\b\b\b\b\b\b\b\b\b\b\b\b\b\b\b\b\b\b\b\b\b\b\b\b\b\b\b\b\b\b\b\b\b\b\b\b\b\b\b\b\b\b\b\b\b\b\b\n",
      "Epoch 16/100\n",
      "1400/1400 [==============================] - 0s 43us/step - loss: 0.5174 - acc: 0.7414\b\b\b\b\b\b\b\b\b\b\b\b\b\b\b\b\b\b\b\b\b\b\b\b\b\b\b\b\b\b\b\b\b\b\b\b\b\b\b\b\b\b\b\b\b\b\b\b\b\b\b\b\b\b\b\b\b\b\b\b\b\b\b\b\b\b\b\b\b\b\b\b\b\b\b\b\b\b\b\b\b\b\b\b\b\b\b\b\b\b\b\b\b\b\b\b\b\b\b\b\b\b\b\b\b\b\b\b\b\b\b\b\b\b\b\b\b\b\b\b\b\b\b\b\b\b\b\b\b\b\b\b\b\b\b\b\b\b\b\b\b\b\b\b\b\b\b\b\b\b\b\b\b\b\b\b\b\n",
      "Epoch 17/100\n",
      "1400/1400 [==============================] - 0s 31us/step - loss: 0.5164 - acc: 0.7450\b\b\b\b\b\b\b\b\b\b\b\b\b\b\b\b\b\b\b\b\b\b\b\b\b\b\b\b\b\b\b\b\b\b\b\b\b\b\b\b\b\b\b\b\b\b\b\b\b\b\b\b\b\b\b\b\b\b\b\b\b\b\b\b\b\b\b\b\b\b\b\b\b\b\b\b\n",
      "Epoch 18/100\n",
      "1400/1400 [==============================] - 0s 31us/step - loss: 0.5157 - acc: 0.7414\b\b\b\b\b\b\b\b\b\b\b\b\b\b\b\b\b\b\b\b\b\b\b\b\b\b\b\b\b\b\b\b\b\b\b\b\b\b\b\b\b\b\b\b\b\b\b\b\b\b\b\b\b\b\b\b\b\b\b\b\b\b\b\b\b\b\b\b\b\b\b\b\b\b\b\b\n",
      "Epoch 19/100\n",
      "1400/1400 [==============================] - 0s 33us/step - loss: 0.5146 - acc: 0.7400\b\b\b\b\b\b\b\b\b\b\b\b\b\b\b\b\b\b\b\b\b\b\b\b\b\b\b\b\b\b\b\b\b\b\b\b\b\b\b\b\b\b\b\b\b\b\b\b\b\b\b\b\b\b\b\b\b\b\b\b\b\b\b\b\b\b\b\b\b\b\b\b\b\b\b\b\n",
      "Epoch 20/100\n",
      "1400/1400 [==============================] - 0s 44us/step - loss: 0.5139 - acc: 0.7364\b\b\b\b\b\b\b\b\b\b\b\b\b\b\b\b\b\b\b\b\b\b\b\b\b\b\b\b\b\b\b\b\b\b\b\b\b\b\b\b\b\b\b\b\b\b\b\b\b\b\b\b\b\b\b\b\b\b\b\b\b\b\b\b\b\b\b\b\b\b\b\b\b\b\b\b\b\b\b\b\b\b\b\b\b\b\b\b\b\b\b\b\b\b\b\b\b\b\b\b\b\b\b\b\b\b\b\b\b\b\b\b\b\b\b\b\b\b\b\b\b\b\b\b\b\b\b\b\b\b\b\b\b\b\b\b\b\b\b\b\b\b\b\b\b\b\b\b\b\b\b\b\b\b\b\b\b\n",
      "Epoch 21/100\n",
      "1400/1400 [==============================] - 0s 34us/step - loss: 0.5135 - acc: 0.7357\b\b\b\b\b\b\b\b\b\b\b\b\b\b\b\b\b\b\b\b\b\b\b\b\b\b\b\b\b\b\b\b\b\b\b\b\b\b\b\b\b\b\b\b\b\b\b\b\b\b\b\b\b\b\b\b\b\b\b\b\b\b\b\b\b\b\b\b\b\b\b\b\b\b\b\b\n",
      "Epoch 22/100\n",
      "1400/1400 [==============================] - 0s 31us/step - loss: 0.5127 - acc: 0.7393\b\b\b\b\b\b\b\b\b\b\b\b\b\b\b\b\b\b\b\b\b\b\b\b\b\b\b\b\b\b\b\b\b\b\b\b\b\b\b\b\b\b\b\b\b\b\b\b\b\b\b\b\b\b\b\b\b\b\b\b\b\b\b\b\b\b\b\b\b\b\b\b\b\b\b\b\n",
      "Epoch 23/100\n",
      "1400/1400 [==============================] - 0s 31us/step - loss: 0.5116 - acc: 0.7393\b\b\b\b\b\b\b\b\b\b\b\b\b\b\b\b\b\b\b\b\b\b\b\b\b\b\b\b\b\b\b\b\b\b\b\b\b\b\b\b\b\b\b\b\b\b\b\b\b\b\b\b\b\b\b\b\b\b\b\b\b\b\b\b\b\b\b\b\b\b\b\b\b\b\b\b\n",
      "Epoch 24/100\n",
      "1400/1400 [==============================] - 0s 32us/step - loss: 0.5108 - acc: 0.7364\b\b\b\b\b\b\b\b\b\b\b\b\b\b\b\b\b\b\b\b\b\b\b\b\b\b\b\b\b\b\b\b\b\b\b\b\b\b\b\b\b\b\b\b\b\b\b\b\b\b\b\b\b\b\b\b\b\b\b\b\b\b\b\b\b\b\b\b\b\b\b\b\b\b\b\b\n",
      "Epoch 25/100\n",
      "1400/1400 [==============================] - 0s 32us/step - loss: 0.5100 - acc: 0.7379\b\b\b\b\b\b\b\b\b\b\b\b\b\b\b\b\b\b\b\b\b\b\b\b\b\b\b\b\b\b\b\b\b\b\b\b\b\b\b\b\b\b\b\b\b\b\b\b\b\b\b\b\b\b\b\b\b\b\b\b\b\b\b\b\b\b\b\b\b\b\b\b\b\b\b\b\n",
      "Epoch 26/100\n",
      "1400/1400 [==============================] - 0s 69us/step - loss: 0.5094 - acc: 0.7386\b\b\b\b\b\b\b\b\b\b\b\b\b\b\b\b\b\b\b\b\b\b\b\b\b\b\b\b\b\b\b\b\b\b\b\b\b\b\b\b\b\b\b\b\b\b\b\b\b\b\b\b\b\b\b\b\b\b\b\b\b\b\b\b\b\b\b\b\b\b\b\b\b\b\b\b\b\b\b\b\b\b\b\b\b\b\b\b\b\b\b\b\b\b\b\b\b\b\b\b\b\b\b\b\b\b\b\b\b\b\b\b\b\b\b\b\b\b\b\b\b\b\b\b\b\b\b\b\b\b\b\b\b\b\b\b\b\b\b\b\b\b\b\b\b\b\b\b\b\b\b\b\b\b\b\b\b\n",
      "Epoch 27/100\n",
      "1400/1400 [==============================] - 0s 43us/step - loss: 0.5086 - acc: 0.7379\b\b\b\b\b\b\b\b\b\b\b\b\b\b\b\b\b\b\b\b\b\b\b\b\b\b\b\b\b\b\b\b\b\b\b\b\b\b\b\b\b\b\b\b\b\b\b\b\b\b\b\b\b\b\b\b\b\b\b\b\b\b\b\b\b\b\b\b\b\b\b\b\b\b\b\b\b\b\b\b\b\b\b\b\b\b\b\b\b\b\b\b\b\b\b\b\b\b\b\b\b\b\b\b\b\b\b\b\b\b\b\b\b\b\b\b\b\b\b\b\b\b\b\b\b\b\b\b\b\b\b\b\b\b\b\b\b\b\b\b\b\b\b\b\b\b\b\b\b\b\b\b\b\b\b\b\b\n",
      "Epoch 28/100\n",
      "1400/1400 [==============================] - 0s 40us/step - loss: 0.5078 - acc: 0.7379\b\b\b\b\b\b\b\b\b\b\b\b\b\b\b\b\b\b\b\b\b\b\b\b\b\b\b\b\b\b\b\b\b\b\b\b\b\b\b\b\b\b\b\b\b\b\b\b\b\b\b\b\b\b\b\b\b\b\b\b\b\b\b\b\b\b\b\b\b\b\b\b\b\b\b\b\b\b\b\b\b\b\b\b\b\b\b\b\b\b\b\b\b\b\b\b\b\b\b\b\b\b\b\b\b\b\b\b\b\b\b\b\b\b\b\b\b\b\b\b\b\b\b\b\b\b\b\b\b\b\b\b\b\b\b\b\b\b\b\b\b\b\b\b\b\b\b\b\b\b\b\b\b\b\b\b\b\n",
      "Epoch 29/100\n",
      "1400/1400 [==============================] - 0s 30us/step - loss: 0.5070 - acc: 0.7386\b\b\b\b\b\b\b\b\b\b\b\b\b\b\b\b\b\b\b\b\b\b\b\b\b\b\b\b\b\b\b\b\b\b\b\b\b\b\b\b\b\b\b\b\b\b\b\b\b\b\b\b\b\b\b\b\b\b\b\b\b\b\b\b\b\b\b\b\b\b\b\b\b\b\b\b\n",
      "Epoch 30/100\n",
      "1400/1400 [==============================] - 0s 27us/step - loss: 0.5063 - acc: 0.7371\b\b\b\b\b\b\b\b\b\b\b\b\b\b\b\b\b\b\b\b\b\b\b\b\b\b\b\b\b\b\b\b\b\b\b\b\b\b\b\b\b\b\b\b\b\b\b\b\b\b\b\b\b\b\b\b\b\b\b\b\b\b\b\b\b\b\b\b\b\b\b\b\b\b\b\b\n",
      "Epoch 31/100\n",
      "1400/1400 [==============================] - 0s 26us/step - loss: 0.5056 - acc: 0.7343\b\b\b\b\b\b\b\b\b\b\b\b\b\b\b\b\b\b\b\b\b\b\b\b\b\b\b\b\b\b\b\b\b\b\b\b\b\b\b\b\b\b\b\b\b\b\b\b\b\b\b\b\b\b\b\b\b\b\b\b\b\b\b\b\b\b\b\b\b\b\b\b\b\b\b\b\n",
      "Epoch 32/100\n",
      "1400/1400 [==============================] - 0s 29us/step - loss: 0.5047 - acc: 0.7364\b\b\b\b\b\b\b\b\b\b\b\b\b\b\b\b\b\b\b\b\b\b\b\b\b\b\b\b\b\b\b\b\b\b\b\b\b\b\b\b\b\b\b\b\b\b\b\b\b\b\b\b\b\b\b\b\b\b\b\b\b\b\b\b\b\b\b\b\b\b\b\b\b\b\b\b\n",
      "Epoch 33/100\n",
      "1400/1400 [==============================] - 0s 27us/step - loss: 0.5040 - acc: 0.7371\b\b\b\b\b\b\b\b\b\b\b\b\b\b\b\b\b\b\b\b\b\b\b\b\b\b\b\b\b\b\b\b\b\b\b\b\b\b\b\b\b\b\b\b\b\b\b\b\b\b\b\b\b\b\b\b\b\b\b\b\b\b\b\b\b\b\b\b\b\b\b\b\b\b\b\b\n",
      "Epoch 34/100\n",
      "1400/1400 [==============================] - 0s 30us/step - loss: 0.5030 - acc: 0.7393\b\b\b\b\b\b\b\b\b\b\b\b\b\b\b\b\b\b\b\b\b\b\b\b\b\b\b\b\b\b\b\b\b\b\b\b\b\b\b\b\b\b\b\b\b\b\b\b\b\b\b\b\b\b\b\b\b\b\b\b\b\b\b\b\b\b\b\b\b\b\b\b\b\b\b\b\n",
      "Epoch 35/100\n",
      "1400/1400 [==============================] - 0s 27us/step - loss: 0.5020 - acc: 0.7379\b\b\b\b\b\b\b\b\b\b\b\b\b\b\b\b\b\b\b\b\b\b\b\b\b\b\b\b\b\b\b\b\b\b\b\b\b\b\b\b\b\b\b\b\b\b\b\b\b\b\b\b\b\b\b\b\b\b\b\b\b\b\b\b\b\b\b\b\b\b\b\b\b\b\b\b\n",
      "Epoch 36/100\n",
      "1400/1400 [==============================] - 0s 27us/step - loss: 0.5011 - acc: 0.7350\b\b\b\b\b\b\b\b\b\b\b\b\b\b\b\b\b\b\b\b\b\b\b\b\b\b\b\b\b\b\b\b\b\b\b\b\b\b\b\b\b\b\b\b\b\b\b\b\b\b\b\b\b\b\b\b\b\b\b\b\b\b\b\b\b\b\b\b\b\b\b\b\b\b\b\b\n",
      "Epoch 37/100\n",
      "1400/1400 [==============================] - 0s 27us/step - loss: 0.5007 - acc: 0.7386\b\b\b\b\b\b\b\b\b\b\b\b\b\b\b\b\b\b\b\b\b\b\b\b\b\b\b\b\b\b\b\b\b\b\b\b\b\b\b\b\b\b\b\b\b\b\b\b\b\b\b\b\b\b\b\b\b\b\b\b\b\b\b\b\b\b\b\b\b\b\b\b\b\b\b\b\n",
      "Epoch 38/100\n",
      "1400/1400 [==============================] - 0s 27us/step - loss: 0.4996 - acc: 0.7371\b\b\b\b\b\b\b\b\b\b\b\b\b\b\b\b\b\b\b\b\b\b\b\b\b\b\b\b\b\b\b\b\b\b\b\b\b\b\b\b\b\b\b\b\b\b\b\b\b\b\b\b\b\b\b\b\b\b\b\b\b\b\b\b\b\b\b\b\b\b\b\b\b\b\b\b\n",
      "Epoch 39/100\n",
      "1400/1400 [==============================] - 0s 27us/step - loss: 0.4983 - acc: 0.7350\b\b\b\b\b\b\b\b\b\b\b\b\b\b\b\b\b\b\b\b\b\b\b\b\b\b\b\b\b\b\b\b\b\b\b\b\b\b\b\b\b\b\b\b\b\b\b\b\b\b\b\b\b\b\b\b\b\b\b\b\b\b\b\b\b\b\b\b\b\b\b\b\b\b\b\b\n",
      "Epoch 40/100\n",
      "1400/1400 [==============================] - 0s 29us/step - loss: 0.4980 - acc: 0.7386\b\b\b\b\b\b\b\b\b\b\b\b\b\b\b\b\b\b\b\b\b\b\b\b\b\b\b\b\b\b\b\b\b\b\b\b\b\b\b\b\b\b\b\b\b\b\b\b\b\b\b\b\b\b\b\b\b\b\b\b\b\b\b\b\b\b\b\b\b\b\b\b\b\b\b\b\n",
      "Epoch 41/100\n",
      "1400/1400 [==============================] - 0s 28us/step - loss: 0.4967 - acc: 0.7364\b\b\b\b\b\b\b\b\b\b\b\b\b\b\b\b\b\b\b\b\b\b\b\b\b\b\b\b\b\b\b\b\b\b\b\b\b\b\b\b\b\b\b\b\b\b\b\b\b\b\b\b\b\b\b\b\b\b\b\b\b\b\b\b\b\b\b\b\b\b\b\b\b\b\b\b\n",
      "Epoch 42/100\n",
      "1400/1400 [==============================] - 0s 32us/step - loss: 0.4958 - acc: 0.7386\b\b\b\b\b\b\b\b\b\b\b\b\b\b\b\b\b\b\b\b\b\b\b\b\b\b\b\b\b\b\b\b\b\b\b\b\b\b\b\b\b\b\b\b\b\b\b\b\b\b\b\b\b\b\b\b\b\b\b\b\b\b\b\b\b\b\b\b\b\b\b\b\b\b\b\b\n",
      "Epoch 43/100\n",
      "1400/1400 [==============================] - 0s 34us/step - loss: 0.4949 - acc: 0.7379\b\b\b\b\b\b\b\b\b\b\b\b\b\b\b\b\b\b\b\b\b\b\b\b\b\b\b\b\b\b\b\b\b\b\b\b\b\b\b\b\b\b\b\b\b\b\b\b\b\b\b\b\b\b\b\b\b\b\b\b\b\b\b\b\b\b\b\b\b\b\b\b\b\b\b\b\n",
      "Epoch 44/100\n",
      "1400/1400 [==============================] - 0s 28us/step - loss: 0.4938 - acc: 0.7379\b\b\b\b\b\b\b\b\b\b\b\b\b\b\b\b\b\b\b\b\b\b\b\b\b\b\b\b\b\b\b\b\b\b\b\b\b\b\b\b\b\b\b\b\b\b\b\b\b\b\b\b\b\b\b\b\b\b\b\b\b\b\b\b\b\b\b\b\b\b\b\b\b\b\b\b\n",
      "Epoch 45/100\n",
      "1400/1400 [==============================] - 0s 29us/step - loss: 0.4929 - acc: 0.7379\b\b\b\b\b\b\b\b\b\b\b\b\b\b\b\b\b\b\b\b\b\b\b\b\b\b\b\b\b\b\b\b\b\b\b\b\b\b\b\b\b\b\b\b\b\b\b\b\b\b\b\b\b\b\b\b\b\b\b\b\b\b\b\b\b\b\b\b\b\b\b\b\b\b\b\b\n",
      "Epoch 46/100\n",
      "1400/1400 [==============================] - 0s 30us/step - loss: 0.4917 - acc: 0.7386\b\b\b\b\b\b\b\b\b\b\b\b\b\b\b\b\b\b\b\b\b\b\b\b\b\b\b\b\b\b\b\b\b\b\b\b\b\b\b\b\b\b\b\b\b\b\b\b\b\b\b\b\b\b\b\b\b\b\b\b\b\b\b\b\b\b\b\b\b\b\b\b\b\b\b\b\n",
      "Epoch 47/100\n",
      "1400/1400 [==============================] - 0s 33us/step - loss: 0.4908 - acc: 0.7393\b\b\b\b\b\b\b\b\b\b\b\b\b\b\b\b\b\b\b\b\b\b\b\b\b\b\b\b\b\b\b\b\b\b\b\b\b\b\b\b\b\b\b\b\b\b\b\b\b\b\b\b\b\b\b\b\b\b\b\b\b\b\b\b\b\b\b\b\b\b\b\b\b\b\b\b\n",
      "Epoch 48/100\n",
      "1400/1400 [==============================] - 0s 28us/step - loss: 0.4896 - acc: 0.7407\b\b\b\b\b\b\b\b\b\b\b\b\b\b\b\b\b\b\b\b\b\b\b\b\b\b\b\b\b\b\b\b\b\b\b\b\b\b\b\b\b\b\b\b\b\b\b\b\b\b\b\b\b\b\b\b\b\b\b\b\b\b\b\b\b\b\b\b\b\b\b\b\b\b\b\b\n",
      "Epoch 49/100\n",
      "1400/1400 [==============================] - 0s 31us/step - loss: 0.4885 - acc: 0.7450\b\b\b\b\b\b\b\b\b\b\b\b\b\b\b\b\b\b\b\b\b\b\b\b\b\b\b\b\b\b\b\b\b\b\b\b\b\b\b\b\b\b\b\b\b\b\b\b\b\b\b\b\b\b\b\b\b\b\b\b\b\b\b\b\b\b\b\b\b\b\b\b\b\b\b\b\n",
      "Epoch 50/100\n",
      "1400/1400 [==============================] - 0s 27us/step - loss: 0.4874 - acc: 0.7429\b\b\b\b\b\b\b\b\b\b\b\b\b\b\b\b\b\b\b\b\b\b\b\b\b\b\b\b\b\b\b\b\b\b\b\b\b\b\b\b\b\b\b\b\b\b\b\b\b\b\b\b\b\b\b\b\b\b\b\b\b\b\b\b\b\b\b\b\b\b\b\b\b\b\b\b\n",
      "Epoch 51/100\n",
      "1400/1400 [==============================] - 0s 29us/step - loss: 0.4865 - acc: 0.7429\b\b\b\b\b\b\b\b\b\b\b\b\b\b\b\b\b\b\b\b\b\b\b\b\b\b\b\b\b\b\b\b\b\b\b\b\b\b\b\b\b\b\b\b\b\b\b\b\b\b\b\b\b\b\b\b\b\b\b\b\b\b\b\b\b\b\b\b\b\b\b\b\b\b\b\b\n",
      "Epoch 52/100\n",
      "1400/1400 [==============================] - 0s 27us/step - loss: 0.4849 - acc: 0.7457\b\b\b\b\b\b\b\b\b\b\b\b\b\b\b\b\b\b\b\b\b\b\b\b\b\b\b\b\b\b\b\b\b\b\b\b\b\b\b\b\b\b\b\b\b\b\b\b\b\b\b\b\b\b\b\b\b\b\b\b\b\b\b\b\b\b\b\b\b\b\b\b\b\b\b\b\n",
      "Epoch 53/100\n",
      "1400/1400 [==============================] - 0s 27us/step - loss: 0.4837 - acc: 0.7479\b\b\b\b\b\b\b\b\b\b\b\b\b\b\b\b\b\b\b\b\b\b\b\b\b\b\b\b\b\b\b\b\b\b\b\b\b\b\b\b\b\b\b\b\b\b\b\b\b\b\b\b\b\b\b\b\b\b\b\b\b\b\b\b\b\b\b\b\b\b\b\b\b\b\b\b\n",
      "Epoch 54/100\n",
      "1400/1400 [==============================] - 0s 29us/step - loss: 0.4828 - acc: 0.7600\b\b\b\b\b\b\b\b\b\b\b\b\b\b\b\b\b\b\b\b\b\b\b\b\b\b\b\b\b\b\b\b\b\b\b\b\b\b\b\b\b\b\b\b\b\b\b\b\b\b\b\b\b\b\b\b\b\b\b\b\b\b\b\b\b\b\b\b\b\b\b\b\b\b\b\b\n",
      "Epoch 55/100\n",
      "1400/1400 [==============================] - 0s 31us/step - loss: 0.4814 - acc: 0.7543\b\b\b\b\b\b\b\b\b\b\b\b\b\b\b\b\b\b\b\b\b\b\b\b\b\b\b\b\b\b\b\b\b\b\b\b\b\b\b\b\b\b\b\b\b\b\b\b\b\b\b\b\b\b\b\b\b\b\b\b\b\b\b\b\b\b\b\b\b\b\b\b\b\b\b\b\n",
      "Epoch 56/100\n",
      "1400/1400 [==============================] - 0s 30us/step - loss: 0.4802 - acc: 0.7500\b\b\b\b\b\b\b\b\b\b\b\b\b\b\b\b\b\b\b\b\b\b\b\b\b\b\b\b\b\b\b\b\b\b\b\b\b\b\b\b\b\b\b\b\b\b\b\b\b\b\b\b\b\b\b\b\b\b\b\b\b\b\b\b\b\b\b\b\b\b\b\b\b\b\b\b\n",
      "Epoch 57/100\n",
      "1400/1400 [==============================] - 0s 27us/step - loss: 0.4787 - acc: 0.7593\b\b\b\b\b\b\b\b\b\b\b\b\b\b\b\b\b\b\b\b\b\b\b\b\b\b\b\b\b\b\b\b\b\b\b\b\b\b\b\b\b\b\b\b\b\b\b\b\b\b\b\b\b\b\b\b\b\b\b\b\b\b\b\b\b\b\b\b\b\b\b\b\b\b\b\b\n",
      "Epoch 58/100\n",
      "1400/1400 [==============================] - 0s 28us/step - loss: 0.4774 - acc: 0.7607\b\b\b\b\b\b\b\b\b\b\b\b\b\b\b\b\b\b\b\b\b\b\b\b\b\b\b\b\b\b\b\b\b\b\b\b\b\b\b\b\b\b\b\b\b\b\b\b\b\b\b\b\b\b\b\b\b\b\b\b\b\b\b\b\b\b\b\b\b\b\b\b\b\b\b\b\n",
      "Epoch 59/100\n",
      "1400/1400 [==============================] - 0s 29us/step - loss: 0.4761 - acc: 0.7586\b\b\b\b\b\b\b\b\b\b\b\b\b\b\b\b\b\b\b\b\b\b\b\b\b\b\b\b\b\b\b\b\b\b\b\b\b\b\b\b\b\b\b\b\b\b\b\b\b\b\b\b\b\b\b\b\b\b\b\b\b\b\b\b\b\b\b\b\b\b\b\b\b\b\b\b\n",
      "Epoch 60/100\n",
      "1400/1400 [==============================] - 0s 28us/step - loss: 0.4748 - acc: 0.7629\b\b\b\b\b\b\b\b\b\b\b\b\b\b\b\b\b\b\b\b\b\b\b\b\b\b\b\b\b\b\b\b\b\b\b\b\b\b\b\b\b\b\b\b\b\b\b\b\b\b\b\b\b\b\b\b\b\b\b\b\b\b\b\b\b\b\b\b\b\b\b\b\b\b\b\b\n",
      "Epoch 61/100\n",
      "1400/1400 [==============================] - 0s 29us/step - loss: 0.4734 - acc: 0.7636\b\b\b\b\b\b\b\b\b\b\b\b\b\b\b\b\b\b\b\b\b\b\b\b\b\b\b\b\b\b\b\b\b\b\b\b\b\b\b\b\b\b\b\b\b\b\b\b\b\b\b\b\b\b\b\b\b\b\b\b\b\b\b\b\b\b\b\b\b\b\b\b\b\b\b\b\n",
      "Epoch 62/100\n",
      "1400/1400 [==============================] - 0s 28us/step - loss: 0.4719 - acc: 0.7621\b\b\b\b\b\b\b\b\b\b\b\b\b\b\b\b\b\b\b\b\b\b\b\b\b\b\b\b\b\b\b\b\b\b\b\b\b\b\b\b\b\b\b\b\b\b\b\b\b\b\b\b\b\b\b\b\b\b\b\b\b\b\b\b\b\b\b\b\b\b\b\b\b\b\b\b\n",
      "Epoch 63/100\n",
      "1400/1400 [==============================] - 0s 30us/step - loss: 0.4706 - acc: 0.7664\b\b\b\b\b\b\b\b\b\b\b\b\b\b\b\b\b\b\b\b\b\b\b\b\b\b\b\b\b\b\b\b\b\b\b\b\b\b\b\b\b\b\b\b\b\b\b\b\b\b\b\b\b\b\b\b\b\b\b\b\b\b\b\b\b\b\b\b\b\b\b\b\b\b\b\b\n",
      "Epoch 64/100\n",
      "1400/1400 [==============================] - 0s 34us/step - loss: 0.4694 - acc: 0.7664\b\b\b\b\b\b\b\b\b\b\b\b\b\b\b\b\b\b\b\b\b\b\b\b\b\b\b\b\b\b\b\b\b\b\b\b\b\b\b\b\b\b\b\b\b\b\b\b\b\b\b\b\b\b\b\b\b\b\b\b\b\b\b\b\b\b\b\b\b\b\b\b\b\b\b\b\n",
      "Epoch 65/100\n",
      "1400/1400 [==============================] - 0s 31us/step - loss: 0.4677 - acc: 0.7629\b\b\b\b\b\b\b\b\b\b\b\b\b\b\b\b\b\b\b\b\b\b\b\b\b\b\b\b\b\b\b\b\b\b\b\b\b\b\b\b\b\b\b\b\b\b\b\b\b\b\b\b\b\b\b\b\b\b\b\b\b\b\b\b\b\b\b\b\b\b\b\b\b\b\b\b\n",
      "Epoch 66/100\n",
      "1400/1400 [==============================] - 0s 28us/step - loss: 0.4661 - acc: 0.7664\b\b\b\b\b\b\b\b\b\b\b\b\b\b\b\b\b\b\b\b\b\b\b\b\b\b\b\b\b\b\b\b\b\b\b\b\b\b\b\b\b\b\b\b\b\b\b\b\b\b\b\b\b\b\b\b\b\b\b\b\b\b\b\b\b\b\b\b\b\b\b\b\b\b\b\b\n",
      "Epoch 67/100\n",
      "1400/1400 [==============================] - 0s 27us/step - loss: 0.4646 - acc: 0.7693\b\b\b\b\b\b\b\b\b\b\b\b\b\b\b\b\b\b\b\b\b\b\b\b\b\b\b\b\b\b\b\b\b\b\b\b\b\b\b\b\b\b\b\b\b\b\b\b\b\b\b\b\b\b\b\b\b\b\b\b\b\b\b\b\b\b\b\b\b\b\b\b\b\b\b\b\n",
      "Epoch 68/100\n",
      "1400/1400 [==============================] - 0s 26us/step - loss: 0.4629 - acc: 0.7714\b\b\b\b\b\b\b\b\b\b\b\b\b\b\b\b\b\b\b\b\b\b\b\b\b\b\b\b\b\b\b\b\b\b\b\b\b\b\b\b\b\b\b\b\b\b\b\b\b\b\b\b\b\b\b\b\b\b\b\b\b\b\b\b\b\b\b\b\b\b\b\b\b\b\b\b\n",
      "Epoch 69/100\n",
      "1400/1400 [==============================] - 0s 27us/step - loss: 0.4615 - acc: 0.7714\b\b\b\b\b\b\b\b\b\b\b\b\b\b\b\b\b\b\b\b\b\b\b\b\b\b\b\b\b\b\b\b\b\b\b\b\b\b\b\b\b\b\b\b\b\b\b\b\b\b\b\b\b\b\b\b\b\b\b\b\b\b\b\b\b\b\b\b\b\b\b\b\b\b\b\b\n",
      "Epoch 70/100\n",
      "1400/1400 [==============================] - 0s 27us/step - loss: 0.4599 - acc: 0.7714\b\b\b\b\b\b\b\b\b\b\b\b\b\b\b\b\b\b\b\b\b\b\b\b\b\b\b\b\b\b\b\b\b\b\b\b\b\b\b\b\b\b\b\b\b\b\b\b\b\b\b\b\b\b\b\b\b\b\b\b\b\b\b\b\b\b\b\b\b\b\b\b\b\b\b\b\n",
      "Epoch 71/100\n",
      "1400/1400 [==============================] - 0s 27us/step - loss: 0.4581 - acc: 0.7700\b\b\b\b\b\b\b\b\b\b\b\b\b\b\b\b\b\b\b\b\b\b\b\b\b\b\b\b\b\b\b\b\b\b\b\b\b\b\b\b\b\b\b\b\b\b\b\b\b\b\b\b\b\b\b\b\b\b\b\b\b\b\b\b\b\b\b\b\b\b\b\b\b\b\b\b\n",
      "Epoch 72/100\n",
      "1400/1400 [==============================] - 0s 28us/step - loss: 0.4569 - acc: 0.7757\b\b\b\b\b\b\b\b\b\b\b\b\b\b\b\b\b\b\b\b\b\b\b\b\b\b\b\b\b\b\b\b\b\b\b\b\b\b\b\b\b\b\b\b\b\b\b\b\b\b\b\b\b\b\b\b\b\b\b\b\b\b\b\b\b\b\b\b\b\b\b\b\b\b\b\b\n",
      "Epoch 73/100\n",
      "1400/1400 [==============================] - 0s 27us/step - loss: 0.4551 - acc: 0.7757\b\b\b\b\b\b\b\b\b\b\b\b\b\b\b\b\b\b\b\b\b\b\b\b\b\b\b\b\b\b\b\b\b\b\b\b\b\b\b\b\b\b\b\b\b\b\b\b\b\b\b\b\b\b\b\b\b\b\b\b\b\b\b\b\b\b\b\b\b\b\b\b\b\b\b\b\n",
      "Epoch 74/100\n",
      "1400/1400 [==============================] - 0s 27us/step - loss: 0.4535 - acc: 0.7771\b\b\b\b\b\b\b\b\b\b\b\b\b\b\b\b\b\b\b\b\b\b\b\b\b\b\b\b\b\b\b\b\b\b\b\b\b\b\b\b\b\b\b\b\b\b\b\b\b\b\b\b\b\b\b\b\b\b\b\b\b\b\b\b\b\b\b\b\b\b\b\b\b\b\b\b\n",
      "Epoch 75/100\n",
      "1400/1400 [==============================] - 0s 26us/step - loss: 0.4520 - acc: 0.7786\b\b\b\b\b\b\b\b\b\b\b\b\b\b\b\b\b\b\b\b\b\b\b\b\b\b\b\b\b\b\b\b\b\b\b\b\b\b\b\b\b\b\b\b\b\b\b\b\b\b\b\b\b\b\b\b\b\b\b\b\b\b\b\b\b\b\b\b\b\b\b\b\b\b\b\b\n",
      "Epoch 76/100\n",
      "1400/1400 [==============================] - 0s 28us/step - loss: 0.4502 - acc: 0.7807\b\b\b\b\b\b\b\b\b\b\b\b\b\b\b\b\b\b\b\b\b\b\b\b\b\b\b\b\b\b\b\b\b\b\b\b\b\b\b\b\b\b\b\b\b\b\b\b\b\b\b\b\b\b\b\b\b\b\b\b\b\b\b\b\b\b\b\b\b\b\b\b\b\b\b\b\n",
      "Epoch 77/100\n",
      "1400/1400 [==============================] - 0s 27us/step - loss: 0.4486 - acc: 0.7807\b\b\b\b\b\b\b\b\b\b\b\b\b\b\b\b\b\b\b\b\b\b\b\b\b\b\b\b\b\b\b\b\b\b\b\b\b\b\b\b\b\b\b\b\b\b\b\b\b\b\b\b\b\b\b\b\b\b\b\b\b\b\b\b\b\b\b\b\b\b\b\b\b\b\b\b\n",
      "Epoch 78/100\n",
      "1400/1400 [==============================] - 0s 27us/step - loss: 0.4472 - acc: 0.7793\b\b\b\b\b\b\b\b\b\b\b\b\b\b\b\b\b\b\b\b\b\b\b\b\b\b\b\b\b\b\b\b\b\b\b\b\b\b\b\b\b\b\b\b\b\b\b\b\b\b\b\b\b\b\b\b\b\b\b\b\b\b\b\b\b\b\b\b\b\b\b\b\b\b\b\b\n",
      "Epoch 79/100\n",
      "1400/1400 [==============================] - 0s 28us/step - loss: 0.4455 - acc: 0.7800\b\b\b\b\b\b\b\b\b\b\b\b\b\b\b\b\b\b\b\b\b\b\b\b\b\b\b\b\b\b\b\b\b\b\b\b\b\b\b\b\b\b\b\b\b\b\b\b\b\b\b\b\b\b\b\b\b\b\b\b\b\b\b\b\b\b\b\b\b\b\b\b\b\b\b\b\n",
      "Epoch 80/100\n",
      "1400/1400 [==============================] - 0s 29us/step - loss: 0.4438 - acc: 0.7807\b\b\b\b\b\b\b\b\b\b\b\b\b\b\b\b\b\b\b\b\b\b\b\b\b\b\b\b\b\b\b\b\b\b\b\b\b\b\b\b\b\b\b\b\b\b\b\b\b\b\b\b\b\b\b\b\b\b\b\b\b\b\b\b\b\b\b\b\b\b\b\b\b\b\b\b\n",
      "Epoch 81/100\n",
      "1400/1400 [==============================] - 0s 28us/step - loss: 0.4422 - acc: 0.7786\b\b\b\b\b\b\b\b\b\b\b\b\b\b\b\b\b\b\b\b\b\b\b\b\b\b\b\b\b\b\b\b\b\b\b\b\b\b\b\b\b\b\b\b\b\b\b\b\b\b\b\b\b\b\b\b\b\b\b\b\b\b\b\b\b\b\b\b\b\b\b\b\b\b\b\b\n",
      "Epoch 82/100\n",
      "1400/1400 [==============================] - 0s 28us/step - loss: 0.4407 - acc: 0.7843\b\b\b\b\b\b\b\b\b\b\b\b\b\b\b\b\b\b\b\b\b\b\b\b\b\b\b\b\b\b\b\b\b\b\b\b\b\b\b\b\b\b\b\b\b\b\b\b\b\b\b\b\b\b\b\b\b\b\b\b\b\b\b\b\b\b\b\b\b\b\b\b\b\b\b\b\n",
      "Epoch 83/100\n",
      "1400/1400 [==============================] - 0s 27us/step - loss: 0.4394 - acc: 0.7821\b\b\b\b\b\b\b\b\b\b\b\b\b\b\b\b\b\b\b\b\b\b\b\b\b\b\b\b\b\b\b\b\b\b\b\b\b\b\b\b\b\b\b\b\b\b\b\b\b\b\b\b\b\b\b\b\b\b\b\b\b\b\b\b\b\b\b\b\b\b\b\b\b\b\b\b\n",
      "Epoch 84/100\n",
      "1400/1400 [==============================] - 0s 27us/step - loss: 0.4378 - acc: 0.7829\b\b\b\b\b\b\b\b\b\b\b\b\b\b\b\b\b\b\b\b\b\b\b\b\b\b\b\b\b\b\b\b\b\b\b\b\b\b\b\b\b\b\b\b\b\b\b\b\b\b\b\b\b\b\b\b\b\b\b\b\b\b\b\b\b\b\b\b\b\b\b\b\b\b\b\b\n",
      "Epoch 85/100\n",
      "1400/1400 [==============================] - 0s 27us/step - loss: 0.4360 - acc: 0.7829\b\b\b\b\b\b\b\b\b\b\b\b\b\b\b\b\b\b\b\b\b\b\b\b\b\b\b\b\b\b\b\b\b\b\b\b\b\b\b\b\b\b\b\b\b\b\b\b\b\b\b\b\b\b\b\b\b\b\b\b\b\b\b\b\b\b\b\b\b\b\b\b\b\b\b\b\n",
      "Epoch 86/100\n",
      "1400/1400 [==============================] - 0s 28us/step - loss: 0.4350 - acc: 0.7821\b\b\b\b\b\b\b\b\b\b\b\b\b\b\b\b\b\b\b\b\b\b\b\b\b\b\b\b\b\b\b\b\b\b\b\b\b\b\b\b\b\b\b\b\b\b\b\b\b\b\b\b\b\b\b\b\b\b\b\b\b\b\b\b\b\b\b\b\b\b\b\b\b\b\b\b\n",
      "Epoch 87/100\n",
      "1400/1400 [==============================] - 0s 28us/step - loss: 0.4325 - acc: 0.7793\b\b\b\b\b\b\b\b\b\b\b\b\b\b\b\b\b\b\b\b\b\b\b\b\b\b\b\b\b\b\b\b\b\b\b\b\b\b\b\b\b\b\b\b\b\b\b\b\b\b\b\b\b\b\b\b\b\b\b\b\b\b\b\b\b\b\b\b\b\b\b\b\b\b\b\b\n",
      "Epoch 88/100\n",
      "1400/1400 [==============================] - 0s 27us/step - loss: 0.4316 - acc: 0.7814\b\b\b\b\b\b\b\b\b\b\b\b\b\b\b\b\b\b\b\b\b\b\b\b\b\b\b\b\b\b\b\b\b\b\b\b\b\b\b\b\b\b\b\b\b\b\b\b\b\b\b\b\b\b\b\b\b\b\b\b\b\b\b\b\b\b\b\b\b\b\b\b\b\b\b\b\n",
      "Epoch 89/100\n",
      "1400/1400 [==============================] - 0s 30us/step - loss: 0.4301 - acc: 0.7843\b\b\b\b\b\b\b\b\b\b\b\b\b\b\b\b\b\b\b\b\b\b\b\b\b\b\b\b\b\b\b\b\b\b\b\b\b\b\b\b\b\b\b\b\b\b\b\b\b\b\b\b\b\b\b\b\b\b\b\b\b\b\b\b\b\b\b\b\b\b\b\b\b\b\b\b\n",
      "Epoch 90/100\n",
      "1400/1400 [==============================] - 0s 50us/step - loss: 0.4287 - acc: 0.7857\b\b\b\b\b\b\b\b\b\b\b\b\b\b\b\b\b\b\b\b\b\b\b\b\b\b\b\b\b\b\b\b\b\b\b\b\b\b\b\b\b\b\b\b\b\b\b\b\b\b\b\b\b\b\b\b\b\b\b\b\b\b\b\b\b\b\b\b\b\b\b\b\b\b\b\b\b\b\b\b\b\b\b\b\b\b\b\b\b\b\b\b\b\b\b\b\b\b\b\b\b\b\b\b\b\b\b\b\b\b\b\b\b\b\b\b\b\b\b\b\b\b\b\b\b\b\b\b\b\b\b\b\b\b\b\b\b\b\b\b\b\b\b\b\b\b\b\b\b\b\b\b\b\b\b\b\b\n",
      "Epoch 91/100\n",
      "1400/1400 [==============================] - 0s 37us/step - loss: 0.4270 - acc: 0.7871\b\b\b\b\b\b\b\b\b\b\b\b\b\b\b\b\b\b\b\b\b\b\b\b\b\b\b\b\b\b\b\b\b\b\b\b\b\b\b\b\b\b\b\b\b\b\b\b\b\b\b\b\b\b\b\b\b\b\b\b\b\b\b\b\b\b\b\b\b\b\b\b\b\b\b\b\n",
      "Epoch 92/100\n",
      "1400/1400 [==============================] - 0s 31us/step - loss: 0.4255 - acc: 0.7886\b\b\b\b\b\b\b\b\b\b\b\b\b\b\b\b\b\b\b\b\b\b\b\b\b\b\b\b\b\b\b\b\b\b\b\b\b\b\b\b\b\b\b\b\b\b\b\b\b\b\b\b\b\b\b\b\b\b\b\b\b\b\b\b\b\b\b\b\b\b\b\b\b\b\b\b\n",
      "Epoch 93/100\n",
      "1400/1400 [==============================] - 0s 26us/step - loss: 0.4243 - acc: 0.7886\b\b\b\b\b\b\b\b\b\b\b\b\b\b\b\b\b\b\b\b\b\b\b\b\b\b\b\b\b\b\b\b\b\b\b\b\b\b\b\b\b\b\b\b\b\b\b\b\b\b\b\b\b\b\b\b\b\b\b\b\b\b\b\b\b\b\b\b\b\b\b\b\b\b\b\b\n",
      "Epoch 94/100\n",
      "1400/1400 [==============================] - 0s 25us/step - loss: 0.4231 - acc: 0.7907\b\b\b\b\b\b\b\b\b\b\b\b\b\b\b\b\b\b\b\b\b\b\b\b\b\b\b\b\b\b\b\b\b\b\b\b\b\b\b\b\b\b\b\b\b\b\b\b\b\b\b\b\b\b\b\b\b\b\b\b\b\b\b\b\b\b\b\b\b\b\b\b\b\b\b\b\n",
      "Epoch 95/100\n",
      "1400/1400 [==============================] - 0s 30us/step - loss: 0.4216 - acc: 0.7929\b\b\b\b\b\b\b\b\b\b\b\b\b\b\b\b\b\b\b\b\b\b\b\b\b\b\b\b\b\b\b\b\b\b\b\b\b\b\b\b\b\b\b\b\b\b\b\b\b\b\b\b\b\b\b\b\b\b\b\b\b\b\b\b\b\b\b\b\b\b\b\b\b\b\b\b\n",
      "Epoch 96/100\n",
      "1400/1400 [==============================] - 0s 27us/step - loss: 0.4204 - acc: 0.7921\b\b\b\b\b\b\b\b\b\b\b\b\b\b\b\b\b\b\b\b\b\b\b\b\b\b\b\b\b\b\b\b\b\b\b\b\b\b\b\b\b\b\b\b\b\b\b\b\b\b\b\b\b\b\b\b\b\b\b\b\b\b\b\b\b\b\b\b\b\b\b\b\b\b\b\b\n",
      "Epoch 97/100\n",
      "1400/1400 [==============================] - 0s 28us/step - loss: 0.4189 - acc: 0.7979\b\b\b\b\b\b\b\b\b\b\b\b\b\b\b\b\b\b\b\b\b\b\b\b\b\b\b\b\b\b\b\b\b\b\b\b\b\b\b\b\b\b\b\b\b\b\b\b\b\b\b\b\b\b\b\b\b\b\b\b\b\b\b\b\b\b\b\b\b\b\b\b\b\b\b\b\n",
      "Epoch 98/100\n",
      "1400/1400 [==============================] - 0s 27us/step - loss: 0.4173 - acc: 0.7964\b\b\b\b\b\b\b\b\b\b\b\b\b\b\b\b\b\b\b\b\b\b\b\b\b\b\b\b\b\b\b\b\b\b\b\b\b\b\b\b\b\b\b\b\b\b\b\b\b\b\b\b\b\b\b\b\b\b\b\b\b\b\b\b\b\b\b\b\b\b\b\b\b\b\b\b\n",
      "Epoch 99/100\n",
      "1400/1400 [==============================] - 0s 28us/step - loss: 0.4165 - acc: 0.8021\b\b\b\b\b\b\b\b\b\b\b\b\b\b\b\b\b\b\b\b\b\b\b\b\b\b\b\b\b\b\b\b\b\b\b\b\b\b\b\b\b\b\b\b\b\b\b\b\b\b\b\b\b\b\b\b\b\b\b\b\b\b\b\b\b\b\b\b\b\b\b\b\b\b\b\b\n",
      "Epoch 100/100\n",
      "1400/1400 [==============================] - 0s 27us/step - loss: 0.4153 - acc: 0.8057\b\b\b\b\b\b\b\b\b\b\b\b\b\b\b\b\b\b\b\b\b\b\b\b\b\b\b\b\b\b\b\b\b\b\b\b\b\b\b\b\b\b\b\b\b\b\b\b\b\b\b\b\b\b\b\b\b\b\b\b\b\b\b\b\b\b\b\b\b\b\b\b\b\b\b\b\n"
     ]
    },
    {
     "data": {
      "text/plain": [
       "<keras.callbacks.History at 0x12451c908>"
      ]
     },
     "execution_count": 9,
     "metadata": {},
     "output_type": "execute_result"
    }
   ],
   "source": [
    "model.fit(training_data, training_labels, epochs=100, batch_size=40)"
   ]
  },
  {
   "cell_type": "code",
   "execution_count": 10,
   "metadata": {
    "colab": {
     "base_uri": "https://localhost:8080/",
     "height": 51
    },
    "colab_type": "code",
    "collapsed": false,
    "id": "VhjNVl3ZVjZf",
    "outputId": "8971cdcf-7fc4-4d4f-e181-deb2bbf4643d"
   },
   "outputs": [
    {
     "name": "stdout",
     "output_type": "stream",
     "text": [
      "336/336 [==============================] - 0s 58us/step\b\b\b\b\b\b\b\b\b\b\b\b\b\b\b\b\b\b\b\b\b\b\b\b\b\b\b\b\b\b\b\b\b\b\b\b\b\b\b\b\b\b\b\b\b\n"
     ]
    },
    {
     "data": {
      "text/plain": [
       "[0.45929401616255444, 0.7767857128665561]"
      ]
     },
     "execution_count": 10,
     "metadata": {},
     "output_type": "execute_result"
    }
   ],
   "source": [
    "model.evaluate(dev_data, dev_labels, batch_size=40)"
   ]
  },
  {
   "cell_type": "code",
   "execution_count": 11,
   "metadata": {
    "colab": {},
    "colab_type": "code",
    "collapsed": true,
    "id": "_c5fvlvUV2Ji"
   },
   "outputs": [],
   "source": [
    "from sklearn.linear_model import LinearRegression, LogisticRegression\n",
    "from sklearn.ensemble import AdaBoostClassifier\n",
    "from catboost import CatBoostClassifier\n",
    "from sklearn.ensemble import RandomForestClassifier\n",
    "from sklearn.neural_network import MLPClassifier\n",
    "from sklearn.metrics import mean_squared_error"
   ]
  },
  {
   "cell_type": "code",
   "execution_count": 12,
   "metadata": {
    "collapsed": false
   },
   "outputs": [
    {
     "data": {
      "text/plain": [
       "0.21435482298956554"
      ]
     },
     "execution_count": 12,
     "metadata": {},
     "output_type": "execute_result"
    }
   ],
   "source": [
    "clf = LinearRegression()\n",
    "clf.fit(training_data, training_labels)\n",
    "clf.score(dev_data, dev_labels)"
   ]
  },
  {
   "cell_type": "code",
   "execution_count": 13,
   "metadata": {
    "collapsed": false
   },
   "outputs": [
    {
     "name": "stderr",
     "output_type": "stream",
     "text": [
      "/usr/local/lib/python3.6/site-packages/sklearn/linear_model/logistic.py:433: FutureWarning: Default solver will be changed to 'lbfgs' in 0.22. Specify a solver to silence this warning.\n",
      "  FutureWarning)\n"
     ]
    },
    {
     "data": {
      "text/plain": [
       "0.7619047619047619"
      ]
     },
     "execution_count": 13,
     "metadata": {},
     "output_type": "execute_result"
    }
   ],
   "source": [
    "clf = LogisticRegression()\n",
    "clf.fit(training_data, training_labels)\n",
    "clf.score(dev_data, dev_labels)"
   ]
  },
  {
   "cell_type": "code",
   "execution_count": 14,
   "metadata": {
    "collapsed": false
   },
   "outputs": [
    {
     "data": {
      "text/plain": [
       "0.8630952380952381"
      ]
     },
     "execution_count": 14,
     "metadata": {},
     "output_type": "execute_result"
    }
   ],
   "source": [
    "clf = AdaBoostClassifier()\n",
    "clf.fit(training_data, training_labels)\n",
    "clf.score(dev_data, dev_labels)"
   ]
  },
  {
   "cell_type": "code",
   "execution_count": 15,
   "metadata": {
    "collapsed": false
   },
   "outputs": [
    {
     "data": {
      "text/plain": [
       "0.9285714285714286"
      ]
     },
     "execution_count": 15,
     "metadata": {},
     "output_type": "execute_result"
    }
   ],
   "source": [
    "clf = CatBoostClassifier(iterations=10, learning_rate=1, depth=10)\n",
    "clf.fit(training_data, training_labels, verbose=False)\n",
    "clf.score(dev_data, dev_labels)"
   ]
  },
  {
   "cell_type": "code",
   "execution_count": 33,
   "metadata": {
    "collapsed": false
   },
   "outputs": [
    {
     "data": {
      "text/plain": [
       "array([[9.63921938e-01, 3.60780622e-02],\n",
       "       [9.75727779e-01, 2.42722214e-02],\n",
       "       [9.96941900e-01, 3.05809975e-03],\n",
       "       [9.93415043e-01, 6.58495711e-03],\n",
       "       [9.98961681e-01, 1.03831938e-03],\n",
       "       [9.95256280e-01, 4.74371961e-03],\n",
       "       [9.99320987e-01, 6.79013123e-04],\n",
       "       [9.96941900e-01, 3.05809975e-03],\n",
       "       [9.98827795e-01, 1.17220451e-03],\n",
       "       [9.99887284e-01, 1.12715639e-04],\n",
       "       [9.97019032e-01, 2.98096774e-03],\n",
       "       [9.97048619e-01, 2.95138102e-03],\n",
       "       [1.56056752e-01, 8.43943248e-01],\n",
       "       [3.42103937e-03, 9.96578961e-01],\n",
       "       [9.96941900e-01, 3.05809975e-03],\n",
       "       [9.82541100e-01, 1.74588996e-02],\n",
       "       [8.25843631e-01, 1.74156369e-01],\n",
       "       [9.95988605e-01, 4.01139468e-03],\n",
       "       [9.94686669e-01, 5.31333096e-03],\n",
       "       [9.95884304e-01, 4.11569628e-03],\n",
       "       [9.91328971e-01, 8.67102875e-03],\n",
       "       [9.76921432e-01, 2.30785677e-02],\n",
       "       [9.99022702e-01, 9.77298216e-04],\n",
       "       [9.96039727e-01, 3.96027290e-03],\n",
       "       [1.24975890e-01, 8.75024110e-01],\n",
       "       [9.94750210e-01, 5.24979029e-03],\n",
       "       [9.99033986e-01, 9.66014200e-04],\n",
       "       [4.00114656e-01, 5.99885344e-01],\n",
       "       [9.99033986e-01, 9.66014200e-04],\n",
       "       [9.99685187e-01, 3.14812850e-04],\n",
       "       [9.42375481e-01, 5.76245191e-02],\n",
       "       [9.99589337e-01, 4.10663032e-04],\n",
       "       [9.92426688e-01, 7.57331178e-03],\n",
       "       [9.98658485e-01, 1.34151531e-03],\n",
       "       [3.83279746e-01, 6.16720254e-01],\n",
       "       [2.87500571e-02, 9.71249943e-01],\n",
       "       [9.99720829e-01, 2.79170704e-04],\n",
       "       [2.87645577e-01, 7.12354423e-01],\n",
       "       [9.98821074e-01, 1.17892594e-03],\n",
       "       [9.99861694e-01, 1.38306111e-04],\n",
       "       [9.99625382e-01, 3.74618170e-04],\n",
       "       [9.99033986e-01, 9.66014200e-04],\n",
       "       [9.99709171e-01, 2.90829213e-04],\n",
       "       [9.88896520e-01, 1.11034802e-02],\n",
       "       [9.97048619e-01, 2.95138102e-03],\n",
       "       [7.46964989e-01, 2.53035011e-01],\n",
       "       [9.99730256e-01, 2.69744428e-04],\n",
       "       [9.96877767e-01, 3.12223280e-03],\n",
       "       [9.91869543e-01, 8.13045685e-03],\n",
       "       [9.98658485e-01, 1.34151531e-03],\n",
       "       [9.88325580e-01, 1.16744201e-02],\n",
       "       [9.96181189e-01, 3.81881053e-03],\n",
       "       [9.73218101e-01, 2.67818987e-02],\n",
       "       [9.98402550e-01, 1.59745037e-03],\n",
       "       [9.42321607e-01, 5.76783925e-02],\n",
       "       [9.98658485e-01, 1.34151531e-03],\n",
       "       [9.97279120e-01, 2.72087959e-03],\n",
       "       [9.96941900e-01, 3.05809975e-03],\n",
       "       [9.50411023e-01, 4.95889774e-02],\n",
       "       [9.94236578e-01, 5.76342163e-03],\n",
       "       [9.99239446e-01, 7.60553724e-04],\n",
       "       [9.97526020e-01, 2.47397958e-03],\n",
       "       [9.99036980e-01, 9.63020144e-04],\n",
       "       [9.99482146e-01, 5.17853657e-04],\n",
       "       [9.67580967e-01, 3.24190331e-02],\n",
       "       [5.90702308e-01, 4.09297692e-01],\n",
       "       [9.98264688e-01, 1.73531225e-03],\n",
       "       [2.01786655e-02, 9.79821334e-01],\n",
       "       [9.65384850e-01, 3.46151501e-02],\n",
       "       [9.99443681e-01, 5.56318898e-04],\n",
       "       [9.42341846e-01, 5.76581538e-02],\n",
       "       [9.98658485e-01, 1.34151531e-03],\n",
       "       [9.99916131e-01, 8.38694709e-05],\n",
       "       [8.66857842e-01, 1.33142158e-01],\n",
       "       [9.90718968e-01, 9.28103245e-03],\n",
       "       [8.80183465e-01, 1.19816535e-01],\n",
       "       [9.98597917e-01, 1.40208348e-03],\n",
       "       [9.98895091e-01, 1.10490858e-03],\n",
       "       [9.88903601e-01, 1.10963992e-02],\n",
       "       [9.95821634e-01, 4.17836622e-03],\n",
       "       [9.59832607e-01, 4.01673926e-02],\n",
       "       [2.14504059e-01, 7.85495941e-01],\n",
       "       [9.99374514e-01, 6.25486305e-04],\n",
       "       [9.98658485e-01, 1.34151531e-03],\n",
       "       [7.69110873e-01, 2.30889127e-01],\n",
       "       [9.30164148e-01, 6.98358521e-02],\n",
       "       [8.91435345e-01, 1.08564655e-01],\n",
       "       [9.87101752e-01, 1.28982480e-02],\n",
       "       [9.99461935e-01, 5.38064527e-04],\n",
       "       [9.96941900e-01, 3.05809975e-03],\n",
       "       [9.99078089e-01, 9.21911409e-04],\n",
       "       [9.76173623e-01, 2.38263769e-02],\n",
       "       [9.97982038e-01, 2.01796205e-03],\n",
       "       [9.97000965e-01, 2.99903493e-03],\n",
       "       [9.99844544e-01, 1.55455636e-04],\n",
       "       [8.01944919e-01, 1.98055081e-01],\n",
       "       [9.96324590e-01, 3.67540960e-03],\n",
       "       [3.63219399e-02, 9.63678060e-01],\n",
       "       [9.99574895e-01, 4.25104580e-04],\n",
       "       [9.96254511e-01, 3.74548872e-03],\n",
       "       [8.20088190e-01, 1.79911810e-01],\n",
       "       [9.94652307e-01, 5.34769322e-03],\n",
       "       [9.99183948e-01, 8.16051605e-04],\n",
       "       [9.96486647e-01, 3.51335345e-03],\n",
       "       [9.05044621e-01, 9.49553785e-02],\n",
       "       [9.98168369e-01, 1.83163144e-03],\n",
       "       [9.96883084e-01, 3.11691557e-03],\n",
       "       [9.71915628e-01, 2.80843717e-02],\n",
       "       [9.81212899e-01, 1.87871009e-02],\n",
       "       [9.98801984e-01, 1.19801584e-03],\n",
       "       [9.20954402e-01, 7.90455976e-02],\n",
       "       [9.75639465e-01, 2.43605348e-02],\n",
       "       [9.99861519e-01, 1.38480590e-04],\n",
       "       [9.99842911e-01, 1.57088976e-04],\n",
       "       [9.99957291e-01, 4.27091024e-05],\n",
       "       [3.68698675e-01, 6.31301325e-01],\n",
       "       [6.22571372e-01, 3.77428628e-01],\n",
       "       [9.98707945e-01, 1.29205488e-03],\n",
       "       [9.71915628e-01, 2.80843717e-02],\n",
       "       [9.97048619e-01, 2.95138102e-03],\n",
       "       [9.63788347e-01, 3.62116529e-02],\n",
       "       [9.99772576e-01, 2.27423618e-04],\n",
       "       [9.73344983e-01, 2.66550165e-02],\n",
       "       [9.97526020e-01, 2.47397958e-03],\n",
       "       [9.99803042e-01, 1.96958151e-04],\n",
       "       [8.45421714e-01, 1.54578286e-01],\n",
       "       [9.99328673e-01, 6.71326945e-04],\n",
       "       [9.30279546e-01, 6.97204542e-02],\n",
       "       [8.35702342e-01, 1.64297658e-01],\n",
       "       [9.98930841e-01, 1.06915946e-03],\n",
       "       [9.59187771e-01, 4.08122290e-02],\n",
       "       [9.54900270e-01, 4.50997296e-02],\n",
       "       [9.65384850e-01, 3.46151501e-02],\n",
       "       [3.42222772e-03, 9.96577772e-01],\n",
       "       [9.74587308e-01, 2.54126916e-02],\n",
       "       [9.65574639e-01, 3.44253611e-02],\n",
       "       [9.94293315e-01, 5.70668533e-03],\n",
       "       [9.69807833e-01, 3.01921666e-02],\n",
       "       [9.60371345e-01, 3.96286547e-02],\n",
       "       [9.99730661e-01, 2.69338845e-04],\n",
       "       [9.92021453e-01, 7.97854689e-03],\n",
       "       [9.92681674e-01, 7.31832600e-03],\n",
       "       [9.94387496e-01, 5.61250388e-03],\n",
       "       [9.97048619e-01, 2.95138102e-03],\n",
       "       [9.99161202e-01, 8.38797627e-04],\n",
       "       [9.96605459e-01, 3.39454141e-03],\n",
       "       [9.99833792e-01, 1.66207535e-04],\n",
       "       [9.98996225e-01, 1.00377547e-03],\n",
       "       [9.97950701e-01, 2.04929857e-03],\n",
       "       [8.74379372e-01, 1.25620628e-01],\n",
       "       [9.97457795e-01, 2.54220492e-03],\n",
       "       [9.99827150e-01, 1.72850448e-04],\n",
       "       [9.85403022e-01, 1.45969775e-02],\n",
       "       [9.97526020e-01, 2.47397958e-03],\n",
       "       [4.56185828e-01, 5.43814172e-01],\n",
       "       [9.94138405e-01, 5.86159520e-03],\n",
       "       [9.99561806e-01, 4.38193986e-04],\n",
       "       [9.94330800e-01, 5.66919973e-03],\n",
       "       [9.98551534e-01, 1.44846640e-03],\n",
       "       [9.88921276e-01, 1.10787238e-02],\n",
       "       [9.98042552e-01, 1.95744775e-03],\n",
       "       [9.97489697e-01, 2.51030308e-03],\n",
       "       [9.68283658e-01, 3.17163420e-02],\n",
       "       [9.99461935e-01, 5.38064527e-04],\n",
       "       [9.50411023e-01, 4.95889774e-02],\n",
       "       [9.99368760e-01, 6.31240481e-04],\n",
       "       [9.98861993e-01, 1.13800669e-03],\n",
       "       [9.97191952e-01, 2.80804788e-03],\n",
       "       [1.30502994e-03, 9.98694970e-01],\n",
       "       [1.09607116e-03, 9.98903929e-01],\n",
       "       [3.84870198e-04, 9.99615130e-01],\n",
       "       [5.88985200e-04, 9.99411015e-01],\n",
       "       [5.19789263e-04, 9.99480211e-01],\n",
       "       [3.30012744e-02, 9.66998726e-01],\n",
       "       [9.62920290e-04, 9.99037080e-01],\n",
       "       [8.83914814e-01, 1.16085186e-01],\n",
       "       [3.17561263e-02, 9.68243874e-01],\n",
       "       [2.99692581e-04, 9.99700307e-01],\n",
       "       [5.69999389e-03, 9.94300006e-01],\n",
       "       [6.64479768e-02, 9.33552023e-01],\n",
       "       [1.07898113e-02, 9.89210189e-01],\n",
       "       [7.60534144e-04, 9.99239466e-01],\n",
       "       [9.54044431e-01, 4.59555689e-02],\n",
       "       [1.08037617e-01, 8.91962383e-01],\n",
       "       [8.57800432e-03, 9.91421996e-01],\n",
       "       [4.64700090e-04, 9.99535300e-01],\n",
       "       [8.65636067e-05, 9.99913436e-01],\n",
       "       [5.47586214e-04, 9.99452414e-01],\n",
       "       [8.85685094e-04, 9.99114315e-01],\n",
       "       [8.85685094e-04, 9.99114315e-01],\n",
       "       [8.85685094e-04, 9.99114315e-01],\n",
       "       [2.05185390e-04, 9.99794815e-01],\n",
       "       [1.18390875e-04, 9.99881609e-01],\n",
       "       [6.89564265e-03, 9.93104357e-01],\n",
       "       [5.92010320e-04, 9.99407990e-01],\n",
       "       [1.21908503e-04, 9.99878091e-01],\n",
       "       [5.95160479e-04, 9.99404840e-01],\n",
       "       [2.32978720e-03, 9.97670213e-01],\n",
       "       [2.90729396e-03, 9.97092706e-01],\n",
       "       [5.24630859e-04, 9.99475369e-01],\n",
       "       [5.84200526e-04, 9.99415799e-01],\n",
       "       [1.30474910e-03, 9.98695251e-01],\n",
       "       [7.88450765e-04, 9.99211549e-01],\n",
       "       [5.57906669e-04, 9.99442093e-01],\n",
       "       [4.48644223e-04, 9.99551356e-01],\n",
       "       [2.67149366e-03, 9.97328506e-01],\n",
       "       [1.25985037e-03, 9.98740150e-01],\n",
       "       [6.45134113e-04, 9.99354866e-01],\n",
       "       [9.96827658e-01, 3.17234193e-03],\n",
       "       [1.86137772e-03, 9.98138622e-01],\n",
       "       [1.86137772e-03, 9.98138622e-01],\n",
       "       [2.09000222e-01, 7.90999778e-01],\n",
       "       [4.40471995e-03, 9.95595280e-01],\n",
       "       [7.33067546e-03, 9.92669325e-01],\n",
       "       [2.05802644e-02, 9.79419736e-01],\n",
       "       [6.71286305e-02, 9.32871370e-01],\n",
       "       [2.07237968e-03, 9.97927620e-01],\n",
       "       [8.14539187e-01, 1.85460813e-01],\n",
       "       [1.06001598e-03, 9.98939984e-01],\n",
       "       [4.34232004e-04, 9.99565768e-01],\n",
       "       [2.56902206e-03, 9.97430978e-01],\n",
       "       [2.22663364e-03, 9.97773366e-01],\n",
       "       [1.15875520e-02, 9.88412448e-01],\n",
       "       [1.27605076e-03, 9.98723949e-01],\n",
       "       [2.09736074e-01, 7.90263926e-01],\n",
       "       [5.12092426e-02, 9.48790757e-01],\n",
       "       [3.95962500e-03, 9.96040375e-01],\n",
       "       [1.53767610e-01, 8.46232390e-01],\n",
       "       [7.62069072e-02, 9.23793093e-01],\n",
       "       [9.87547605e-01, 1.24523952e-02],\n",
       "       [5.37044544e-04, 9.99462955e-01],\n",
       "       [8.82299534e-02, 9.11770047e-01],\n",
       "       [8.26122430e-02, 9.17387757e-01],\n",
       "       [9.87547605e-01, 1.24523952e-02],\n",
       "       [3.93140812e-03, 9.96068592e-01],\n",
       "       [3.68583124e-01, 6.31416876e-01],\n",
       "       [2.90729396e-03, 9.97092706e-01],\n",
       "       [7.31216492e-01, 2.68783508e-01],\n",
       "       [1.64071680e-02, 9.83592832e-01],\n",
       "       [4.40471995e-03, 9.95595280e-01],\n",
       "       [4.51115227e-04, 9.99548885e-01],\n",
       "       [6.03376408e-04, 9.99396624e-01],\n",
       "       [8.18448888e-01, 1.81551112e-01],\n",
       "       [1.02557927e-03, 9.98974421e-01],\n",
       "       [1.06700472e-03, 9.98932995e-01],\n",
       "       [4.00314352e-05, 9.99959969e-01],\n",
       "       [2.66739100e-04, 9.99733261e-01],\n",
       "       [8.75308429e-01, 1.24691571e-01],\n",
       "       [1.54363388e-01, 8.45636612e-01],\n",
       "       [4.40471995e-03, 9.95595280e-01],\n",
       "       [4.40471995e-03, 9.95595280e-01],\n",
       "       [4.40471995e-03, 9.95595280e-01],\n",
       "       [1.09128820e-03, 9.98908712e-01],\n",
       "       [9.94434969e-04, 9.99005565e-01],\n",
       "       [1.38396059e-04, 9.99861604e-01],\n",
       "       [5.79920079e-04, 9.99420080e-01],\n",
       "       [6.45134113e-04, 9.99354866e-01],\n",
       "       [4.34232004e-04, 9.99565768e-01],\n",
       "       [5.69188648e-04, 9.99430811e-01],\n",
       "       [3.24043617e-03, 9.96759564e-01],\n",
       "       [8.65752316e-02, 9.13424768e-01],\n",
       "       [1.86137772e-03, 9.98138622e-01],\n",
       "       [4.40471995e-03, 9.95595280e-01],\n",
       "       [9.43156619e-05, 9.99905684e-01],\n",
       "       [8.37194355e-04, 9.99162806e-01],\n",
       "       [2.90729396e-03, 9.97092706e-01],\n",
       "       [5.64130422e-04, 9.99435870e-01],\n",
       "       [1.52619944e-02, 9.84738006e-01],\n",
       "       [7.92035706e-01, 2.07964294e-01],\n",
       "       [1.15409568e-03, 9.98845904e-01],\n",
       "       [9.52548615e-04, 9.99047451e-01],\n",
       "       [2.05595835e-03, 9.97944042e-01],\n",
       "       [9.42984929e-04, 9.99057015e-01],\n",
       "       [1.15913986e-03, 9.98840860e-01],\n",
       "       [1.48041630e-03, 9.98519584e-01],\n",
       "       [4.21658520e-03, 9.95783415e-01],\n",
       "       [7.34049267e-04, 9.99265951e-01],\n",
       "       [1.02406356e-02, 9.89759364e-01],\n",
       "       [1.14171997e-03, 9.98858280e-01],\n",
       "       [1.36161908e-03, 9.98638381e-01],\n",
       "       [1.15409568e-03, 9.98845904e-01],\n",
       "       [7.08989778e-02, 9.29101022e-01],\n",
       "       [4.20387368e-02, 9.57961263e-01],\n",
       "       [9.35378711e-01, 6.46212890e-02],\n",
       "       [1.10961195e-01, 8.89038805e-01],\n",
       "       [2.84846764e-03, 9.97151532e-01],\n",
       "       [1.90733794e-02, 9.80926621e-01],\n",
       "       [9.45122656e-03, 9.90548773e-01],\n",
       "       [3.68583124e-01, 6.31416876e-01],\n",
       "       [7.88450765e-04, 9.99211549e-01],\n",
       "       [4.39575773e-04, 9.99560424e-01],\n",
       "       [6.91249398e-04, 9.99308751e-01],\n",
       "       [9.15374189e-04, 9.99084626e-01],\n",
       "       [9.54212286e-03, 9.90457877e-01],\n",
       "       [4.40471995e-03, 9.95595280e-01],\n",
       "       [1.89104495e-02, 9.81089550e-01],\n",
       "       [5.40848999e-03, 9.94591510e-01],\n",
       "       [1.07340977e-02, 9.89265902e-01],\n",
       "       [2.51759477e-03, 9.97482405e-01],\n",
       "       [7.67948236e-01, 2.32051764e-01],\n",
       "       [4.97853053e-04, 9.99502147e-01],\n",
       "       [1.24712608e-03, 9.98752874e-01],\n",
       "       [1.21462161e-03, 9.98785378e-01],\n",
       "       [2.08432015e-02, 9.79156798e-01],\n",
       "       [2.14687294e-03, 9.97853127e-01],\n",
       "       [4.35218021e-04, 9.99564782e-01],\n",
       "       [9.13555375e-01, 8.64446251e-02],\n",
       "       [2.56076534e-04, 9.99743923e-01],\n",
       "       [9.42984929e-04, 9.99057015e-01],\n",
       "       [8.96230506e-02, 9.10376949e-01],\n",
       "       [4.40471995e-03, 9.95595280e-01],\n",
       "       [1.16545157e-03, 9.98834548e-01],\n",
       "       [8.19535068e-01, 1.80464932e-01],\n",
       "       [7.87702439e-03, 9.92122976e-01],\n",
       "       [4.00314352e-05, 9.99959969e-01],\n",
       "       [2.64582936e-03, 9.97354171e-01],\n",
       "       [4.39575773e-04, 9.99560424e-01],\n",
       "       [1.30502994e-03, 9.98694970e-01],\n",
       "       [4.71335304e-04, 9.99528665e-01],\n",
       "       [3.53900157e-02, 9.64609984e-01],\n",
       "       [6.75250450e-03, 9.93247496e-01],\n",
       "       [5.95160479e-04, 9.99404840e-01],\n",
       "       [7.88450765e-04, 9.99211549e-01],\n",
       "       [1.44949632e-02, 9.85505037e-01],\n",
       "       [3.84870198e-04, 9.99615130e-01],\n",
       "       [1.25985037e-03, 9.98740150e-01],\n",
       "       [7.94863272e-05, 9.99920514e-01],\n",
       "       [4.90991661e-05, 9.99950901e-01],\n",
       "       [1.63887545e-03, 9.98361125e-01],\n",
       "       [2.99232148e-04, 9.99700768e-01],\n",
       "       [4.34232004e-04, 9.99565768e-01],\n",
       "       [1.37036323e-03, 9.98629637e-01],\n",
       "       [7.61383117e-01, 2.38616883e-01],\n",
       "       [1.54622340e-03, 9.98453777e-01],\n",
       "       [4.93800425e-01, 5.06199575e-01],\n",
       "       [1.74283025e-03, 9.98257170e-01]])"
      ]
     },
     "execution_count": 33,
     "metadata": {},
     "output_type": "execute_result"
    }
   ],
   "source": [
    "clf = CatBoostClassifier(iterations=10, learning_rate=1, depth=10)\n",
    "clf.fit(training_data, training_labels, verbose=False)\n",
    "pred = clf.predict_proba(dev_data)\n",
    "pred_1d = np.zeros_like(dev_labels)\n",
    "for i in range(pred.shape[0]):\n",
    "    if pred[i, 0] > cls[1]:\n",
    "        \n",
    "# mean_squared_error(dev_labels, pred)\n",
    "pred"
   ]
  },
  {
   "cell_type": "code",
   "execution_count": 17,
   "metadata": {
    "collapsed": false
   },
   "outputs": [
    {
     "name": "stderr",
     "output_type": "stream",
     "text": [
      "/usr/local/lib/python3.6/site-packages/sklearn/ensemble/forest.py:246: FutureWarning: The default value of n_estimators will change from 10 in version 0.20 to 100 in 0.22.\n",
      "  \"10 in version 0.20 to 100 in 0.22.\", FutureWarning)\n"
     ]
    },
    {
     "data": {
      "text/plain": [
       "0.9285714285714286"
      ]
     },
     "execution_count": 17,
     "metadata": {},
     "output_type": "execute_result"
    }
   ],
   "source": [
    "clf = RandomForestClassifier()\n",
    "clf.fit(training_data, training_labels)\n",
    "clf.score(dev_data, dev_labels)"
   ]
  },
  {
   "cell_type": "code",
   "execution_count": 18,
   "metadata": {
    "collapsed": false
   },
   "outputs": [
    {
     "name": "stderr",
     "output_type": "stream",
     "text": [
      "/usr/local/lib/python3.6/site-packages/sklearn/neural_network/multilayer_perceptron.py:562: ConvergenceWarning: Stochastic Optimizer: Maximum iterations (200) reached and the optimization hasn't converged yet.\n",
      "  % self.max_iter, ConvergenceWarning)\n"
     ]
    },
    {
     "data": {
      "text/plain": [
       "0.8541666666666666"
      ]
     },
     "execution_count": 18,
     "metadata": {},
     "output_type": "execute_result"
    }
   ],
   "source": [
    "clf = MLPClassifier()\n",
    "clf.fit(training_data, training_labels)\n",
    "clf.score(dev_data, dev_labels)"
   ]
  },
  {
   "cell_type": "code",
   "execution_count": 19,
   "metadata": {
    "collapsed": true
   },
   "outputs": [],
   "source": [
    "import lightgbm as lgb\n",
    "from sklearn.metrics import accuracy_score"
   ]
  },
  {
   "cell_type": "code",
   "execution_count": 20,
   "metadata": {
    "collapsed": false
   },
   "outputs": [
    {
     "name": "stderr",
     "output_type": "stream",
     "text": [
      "/usr/local/lib/python3.6/site-packages/lightgbm/engine.py:99: UserWarning: Found `num_trees` in params. Will use it instead of argument\n",
      "  warnings.warn(\"Found `{}` in params. Will use it instead of argument\".format(alias))\n"
     ]
    },
    {
     "name": "stdout",
     "output_type": "stream",
     "text": [
      "[1]\tvalid_0's binary_error: 0.113095\n",
      "[2]\tvalid_0's binary_error: 0.110119\n",
      "[3]\tvalid_0's binary_error: 0.10119\n",
      "[4]\tvalid_0's binary_error: 0.110119\n",
      "[5]\tvalid_0's binary_error: 0.116071\n",
      "[6]\tvalid_0's binary_error: 0.122024\n",
      "[7]\tvalid_0's binary_error: 0.125\n",
      "[8]\tvalid_0's binary_error: 0.122024\n",
      "[9]\tvalid_0's binary_error: 0.113095\n",
      "[10]\tvalid_0's binary_error: 0.119048\n",
      "[11]\tvalid_0's binary_error: 0.119048\n",
      "[12]\tvalid_0's binary_error: 0.122024\n",
      "[13]\tvalid_0's binary_error: 0.107143\n",
      "[14]\tvalid_0's binary_error: 0.107143\n",
      "[15]\tvalid_0's binary_error: 0.110119\n",
      "[16]\tvalid_0's binary_error: 0.104167\n",
      "[17]\tvalid_0's binary_error: 0.10119\n",
      "[18]\tvalid_0's binary_error: 0.10119\n",
      "[19]\tvalid_0's binary_error: 0.0982143\n",
      "[20]\tvalid_0's binary_error: 0.0952381\n",
      "[21]\tvalid_0's binary_error: 0.0982143\n",
      "[22]\tvalid_0's binary_error: 0.0982143\n",
      "[23]\tvalid_0's binary_error: 0.10119\n",
      "[24]\tvalid_0's binary_error: 0.10119\n",
      "[25]\tvalid_0's binary_error: 0.10119\n",
      "[26]\tvalid_0's binary_error: 0.104167\n",
      "[27]\tvalid_0's binary_error: 0.10119\n",
      "[28]\tvalid_0's binary_error: 0.10119\n",
      "[29]\tvalid_0's binary_error: 0.10119\n",
      "[30]\tvalid_0's binary_error: 0.10119\n",
      "[31]\tvalid_0's binary_error: 0.0982143\n",
      "[32]\tvalid_0's binary_error: 0.0982143\n",
      "[33]\tvalid_0's binary_error: 0.0982143\n",
      "[34]\tvalid_0's binary_error: 0.0982143\n",
      "[35]\tvalid_0's binary_error: 0.0982143\n",
      "[36]\tvalid_0's binary_error: 0.0952381\n",
      "[37]\tvalid_0's binary_error: 0.0952381\n",
      "[38]\tvalid_0's binary_error: 0.0982143\n",
      "[39]\tvalid_0's binary_error: 0.0922619\n",
      "[40]\tvalid_0's binary_error: 0.0892857\n",
      "[41]\tvalid_0's binary_error: 0.0892857\n",
      "[42]\tvalid_0's binary_error: 0.0892857\n",
      "[43]\tvalid_0's binary_error: 0.0833333\n",
      "[44]\tvalid_0's binary_error: 0.077381\n",
      "[45]\tvalid_0's binary_error: 0.0833333\n",
      "[46]\tvalid_0's binary_error: 0.0833333\n",
      "[47]\tvalid_0's binary_error: 0.0833333\n",
      "[48]\tvalid_0's binary_error: 0.077381\n",
      "[49]\tvalid_0's binary_error: 0.077381\n",
      "[50]\tvalid_0's binary_error: 0.0833333\n",
      "[51]\tvalid_0's binary_error: 0.0833333\n",
      "[52]\tvalid_0's binary_error: 0.077381\n",
      "[53]\tvalid_0's binary_error: 0.077381\n",
      "[54]\tvalid_0's binary_error: 0.0714286\n",
      "[55]\tvalid_0's binary_error: 0.0714286\n",
      "[56]\tvalid_0's binary_error: 0.0714286\n",
      "[57]\tvalid_0's binary_error: 0.0714286\n",
      "[58]\tvalid_0's binary_error: 0.0714286\n",
      "[59]\tvalid_0's binary_error: 0.0714286\n",
      "[60]\tvalid_0's binary_error: 0.0744048\n",
      "[61]\tvalid_0's binary_error: 0.0714286\n",
      "[62]\tvalid_0's binary_error: 0.0714286\n",
      "[63]\tvalid_0's binary_error: 0.0714286\n",
      "[64]\tvalid_0's binary_error: 0.0714286\n",
      "[65]\tvalid_0's binary_error: 0.0714286\n",
      "[66]\tvalid_0's binary_error: 0.0714286\n",
      "[67]\tvalid_0's binary_error: 0.0714286\n",
      "[68]\tvalid_0's binary_error: 0.0714286\n",
      "[69]\tvalid_0's binary_error: 0.0714286\n",
      "[70]\tvalid_0's binary_error: 0.0714286\n",
      "[71]\tvalid_0's binary_error: 0.0714286\n",
      "[72]\tvalid_0's binary_error: 0.0684524\n",
      "[73]\tvalid_0's binary_error: 0.0684524\n",
      "[74]\tvalid_0's binary_error: 0.0684524\n",
      "[75]\tvalid_0's binary_error: 0.0684524\n",
      "[76]\tvalid_0's binary_error: 0.0684524\n",
      "[77]\tvalid_0's binary_error: 0.0684524\n",
      "[78]\tvalid_0's binary_error: 0.0684524\n",
      "[79]\tvalid_0's binary_error: 0.0684524\n",
      "[80]\tvalid_0's binary_error: 0.0684524\n",
      "[81]\tvalid_0's binary_error: 0.0684524\n",
      "[82]\tvalid_0's binary_error: 0.0654762\n",
      "[83]\tvalid_0's binary_error: 0.0654762\n",
      "[84]\tvalid_0's binary_error: 0.0714286\n",
      "[85]\tvalid_0's binary_error: 0.0714286\n",
      "[86]\tvalid_0's binary_error: 0.0684524\n",
      "[87]\tvalid_0's binary_error: 0.0684524\n",
      "[88]\tvalid_0's binary_error: 0.0684524\n",
      "[89]\tvalid_0's binary_error: 0.0684524\n",
      "[90]\tvalid_0's binary_error: 0.0654762\n",
      "[91]\tvalid_0's binary_error: 0.0654762\n",
      "[92]\tvalid_0's binary_error: 0.0684524\n",
      "[93]\tvalid_0's binary_error: 0.0654762\n",
      "[94]\tvalid_0's binary_error: 0.0654762\n",
      "[95]\tvalid_0's binary_error: 0.0684524\n",
      "[96]\tvalid_0's binary_error: 0.0654762\n",
      "[97]\tvalid_0's binary_error: 0.0654762\n",
      "[98]\tvalid_0's binary_error: 0.0654762\n",
      "[99]\tvalid_0's binary_error: 0.0654762\n",
      "[100]\tvalid_0's binary_error: 0.0654762\n"
     ]
    }
   ],
   "source": [
    "num_round = 10\n",
    "param = {'num_leaves':31, 'num_trees':100, 'objective':'binary', 'verbose':0}\n",
    "param['metric'] = 'binary_error'\n",
    "train = lgb.Dataset(training_data, label=training_labels)\n",
    "dev = lgb.Dataset(dev_data, label=dev_labels)\n",
    "bst = lgb.train(param, train, num_round, valid_sets=[dev])"
   ]
  },
  {
   "cell_type": "code",
   "execution_count": null,
   "metadata": {
    "collapsed": true
   },
   "outputs": [],
   "source": []
  }
 ],
 "metadata": {
  "colab": {
   "collapsed_sections": [],
   "include_colab_link": true,
   "name": "Model1.ipynb",
   "provenance": [],
   "version": "0.3.2"
  },
  "kernelspec": {
   "display_name": "Python 3",
   "language": "python",
   "name": "python3"
  },
  "language_info": {
   "codemirror_mode": {
    "name": "ipython",
    "version": 3
   },
   "file_extension": ".py",
   "mimetype": "text/x-python",
   "name": "python",
   "nbconvert_exporter": "python",
   "pygments_lexer": "ipython3",
   "version": "3.6.4"
  }
 },
 "nbformat": 4,
 "nbformat_minor": 0
}
