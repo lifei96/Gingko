{
 "cells": [
  {
   "cell_type": "code",
   "execution_count": null,
   "metadata": {},
   "outputs": [],
   "source": [
    "import pymysql\n",
    "import pymysql.cursors\n",
    "from extractor_accelerated import *\n",
    "import random"
   ]
  },
  {
   "cell_type": "code",
   "execution_count": null,
   "metadata": {},
   "outputs": [],
   "source": [
    "conn = pymysql.connect(host='127.0.0.1',port=3306,user='root',password='root',db='gingko')\n",
    "cursor = conn.cursor()\n",
    "cursor.execute('select count(*) from web_pages')"
   ]
  },
  {
   "cell_type": "code",
   "execution_count": null,
   "metadata": {},
   "outputs": [],
   "source": [
    "values = cursor.fetchall()\n",
    "values"
   ]
  },
  {
   "cell_type": "code",
   "execution_count": null,
   "metadata": {},
   "outputs": [],
   "source": [
    "cursor.execute('select site, is_fake, html from web_pages')\n",
    "webs = cursor.fetchall()\n",
    "len(webs)"
   ]
  },
  {
   "cell_type": "code",
   "execution_count": null,
   "metadata": {},
   "outputs": [],
   "source": [
    "one_webs = []\n",
    "zero_webs = []\n",
    "for w in webs:\n",
    "    if w[1] == 0:\n",
    "        zero_webs.append(w)\n",
    "    else:\n",
    "        one_webs.append(w)\n",
    "\n",
    "random.shuffle(zero_webs)\n",
    "zero_webs = zero_webs[:len(one_webs)]\n",
    "print(zero_webs)"
   ]
  },
  {
   "cell_type": "code",
   "execution_count": null,
   "metadata": {},
   "outputs": [],
   "source": [
    "for section in range(4):\n",
    "    imgs = [[], []]\n",
    "    ads = [[], []]\n",
    "    _reading_level = [[], []]\n",
    "    _social_media_score = [[], []]\n",
    "    _citation_score = [[], []]\n",
    "    _sentiment = [[], []]\n",
    "    for i in range(1600):\n",
    "        if i % 100 == 0:\n",
    "            print(i)\n",
    "        soup = BeautifulSoup(one_webs[section*1600 + i][2], 'html.parser')\n",
    "        imgs[1].append(get_img_number(soup))\n",
    "        ads[1].append(get_ads_number(soup))\n",
    "        _reading_level[1].append(get_reading_level(one_webs[section*1600 + i][2]))\n",
    "        _social_media_score[1].append(social_media_score(soup))\n",
    "        _citation_score[1].append(citation_score(soup))\n",
    "        _sentiment[1].append(sentiment_analysis(one_webs[section*1600 + i][2]))\n",
    "    for i in range(1600):\n",
    "        if i % 100 == 0:\n",
    "            print(i)\n",
    "        soup = BeautifulSoup(zero_webs[section*1600 + i][2], 'html.parser')\n",
    "        imgs[0].append(get_img_number(soup))\n",
    "        ads[0].append(get_ads_number(soup))\n",
    "        _reading_level[0].append(get_reading_level(zero_webs[section*1600 + i][2]))\n",
    "        _social_media_score[0].append(social_media_score(soup))\n",
    "        _citation_score[0].append(citation_score(soup))\n",
    "        _sentiment[0].append(sentiment_analysis(zero_webs[section*1600 + i][2]))\n",
    "    \n",
    "    outf = open(\"vectorized\" + str(section) + \".csv\", 'w')\n",
    "    for i in range(len(imgs[0])):\n",
    "        outf.write(\"0,\"+str(imgs[0][i])+\",\"+str(ads[0][i])+\",\"+str(_reading_level[0][i])+\",\")\n",
    "        outf.write(str(_social_media_score[0][i])+\",\"+str(_citation_score[0][i])+\",\"+str(_sentiment[0][i])+\"\\n\")\n",
    "    for i in range(len(imgs[1])):\n",
    "        outf.write(\"1,\"+str(imgs[1][i])+\",\"+str(ads[1][i])+\",\"+str(_reading_level[1][i])+\",\")\n",
    "        outf.write(str(_social_media_score[1][i])+\",\"+str(_citation_score[1][i])+\",\"+str(_sentiment[1][i])+\"\\n\")\n",
    "    outf.close()"
   ]
  },
  {
   "cell_type": "code",
   "execution_count": null,
   "metadata": {},
   "outputs": [],
   "source": []
  }
 ],
 "metadata": {
  "kernelspec": {
   "display_name": "Python 3",
   "language": "python",
   "name": "python3"
  },
  "language_info": {
   "codemirror_mode": {
    "name": "ipython",
    "version": 3
   },
   "file_extension": ".py",
   "mimetype": "text/x-python",
   "name": "python",
   "nbconvert_exporter": "python",
   "pygments_lexer": "ipython3",
   "version": "3.6.5"
  }
 },
 "nbformat": 4,
 "nbformat_minor": 2
}
