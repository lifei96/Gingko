{
 "cells": [
  {
   "cell_type": "code",
   "execution_count": 1,
   "metadata": {},
   "outputs": [],
   "source": [
    "#import mysql.connector\n",
    "import pymysql\n",
    "import pymysql.cursors\n",
    "import matplotlib.pyplot as plt\n",
    "%matplotlib inline "
   ]
  },
  {
   "cell_type": "code",
   "execution_count": 2,
   "metadata": {},
   "outputs": [
    {
     "data": {
      "text/plain": [
       "1"
      ]
     },
     "execution_count": 2,
     "metadata": {},
     "output_type": "execute_result"
    }
   ],
   "source": [
    "conn = pymysql.connect(host='127.0.0.1',port=8889,user='root',password='root',db='gingko')\n",
    "#conn = mysql.connector.connect(user='root', password=, database='gingko', use_unicode=True)\n",
    "cursor = conn.cursor()\n",
    "cursor.execute('select count(*) from web_pages')"
   ]
  },
  {
   "cell_type": "code",
   "execution_count": 3,
   "metadata": {},
   "outputs": [],
   "source": [
    "values = cursor.fetchall()"
   ]
  },
  {
   "cell_type": "code",
   "execution_count": 4,
   "metadata": {},
   "outputs": [
    {
     "data": {
      "text/plain": [
       "((26161,),)"
      ]
     },
     "execution_count": 4,
     "metadata": {},
     "output_type": "execute_result"
    }
   ],
   "source": [
    "values"
   ]
  },
  {
   "cell_type": "code",
   "execution_count": 7,
   "metadata": {},
   "outputs": [
    {
     "name": "stderr",
     "output_type": "stream",
     "text": [
      "/Users/xuan/anaconda3/lib/python3.6/site-packages/nltk/twitter/__init__.py:20: UserWarning: The twython library has not been installed. Some functionality from the twitter package will not be available.\n",
      "  warnings.warn(\"The twython library has not been installed. \"\n"
     ]
    }
   ],
   "source": [
    "from counter import get_img_number, get_ads_number\n",
    "from reading_level import get_reading_level\n",
    "from yd_social import social_media_score, citation_score\n",
    "from sentiment import sentiment_analysis"
   ]
  },
  {
   "cell_type": "code",
   "execution_count": 6,
   "metadata": {},
   "outputs": [],
   "source": [
    "cursor.execute('select site, is_fake, html from web_pages')\n",
    "webs = cursor.fetchall()"
   ]
  },
  {
   "cell_type": "code",
   "execution_count": 8,
   "metadata": {},
   "outputs": [
    {
     "data": {
      "text/plain": [
       "26161"
      ]
     },
     "execution_count": 8,
     "metadata": {},
     "output_type": "execute_result"
    }
   ],
   "source": [
    "len(webs)"
   ]
  },
  {
   "cell_type": "code",
   "execution_count": null,
   "metadata": {},
   "outputs": [
    {
     "name": "stderr",
     "output_type": "stream",
     "text": [
      "/Users/xuan/anaconda3/lib/python3.6/site-packages/bs4/__init__.py:181: UserWarning: No parser was explicitly specified, so I'm using the best available HTML parser for this system (\"lxml\"). This usually isn't a problem, but if you run this code on another system, or in a different virtual environment, it may use a different parser and behave differently.\n",
      "\n",
      "The code that caused this warning is on line 193 of the file /Users/xuan/anaconda3/lib/python3.6/runpy.py. To get rid of this warning, change code that looks like this:\n",
      "\n",
      " BeautifulSoup(YOUR_MARKUP})\n",
      "\n",
      "to this:\n",
      "\n",
      " BeautifulSoup(YOUR_MARKUP, \"lxml\")\n",
      "\n",
      "  markup_type=markup_type))\n"
     ]
    }
   ],
   "source": [
    "imgs = [[], []]\n",
    "ads = [[], []]\n",
    "_reading_level = [[], []]\n",
    "_social_media_score = [[], []]\n",
    "_citation_score = [[], []]\n",
    "_sentiment = [[], []]\n",
    "\n",
    "for w in webs:\n",
    "    imgs[w[1]].append(get_img_number(w[2]))\n",
    "    ads[w[1]].append(get_ads_number(w[2]))\n",
    "    _reading_level[w[1]].append(get_reading_level(w[2]))\n",
    "    _social_media_score[w[1]].append(social_media_score(w[2]))\n",
    "    _citation_score[w[1]].append(citation_score(w[2]))\n",
    "    _sentiment[w[1]].append(sentiment_analysis(w[2]))"
   ]
  },
  {
   "cell_type": "code",
   "execution_count": 18,
   "metadata": {},
   "outputs": [],
   "source": [
    "outf = open(\"vectorized.csv\", 'w')\n",
    "for i in range(len(imgs[0])):\n",
    "    outf.write(\"0,\"+str(imgs[0][i])+\",\"+str(ads[0][i])+\",\"+str(_reading_level[0][i])+\",\")\n",
    "    outf.write(str(_social_media_score[0][i])+\",\"+str(_citation_score[0][i])+\",\"+str(_sentiment[0][i])+\"\\n\")\n",
    "for i in range(len(imgs[1])):\n",
    "    outf.write(\"1,\"+str(imgs[1][i])+\",\"+str(ads[1][i])+\",\"+str(_reading_level[1][i])+\",\")\n",
    "    outf.write(str(_social_media_score[1][i])+\",\"+str(_citation_score[1][i])+\",\"+str(_sentiment[1][i])+\"\\n\")\n",
    "outf.close()"
   ]
  },
  {
   "cell_type": "code",
   "execution_count": null,
   "metadata": {},
   "outputs": [],
   "source": []
  }
 ],
 "metadata": {
  "kernelspec": {
   "display_name": "Python 3",
   "language": "python",
   "name": "python3"
  },
  "language_info": {
   "codemirror_mode": {
    "name": "ipython",
    "version": 3
   },
   "file_extension": ".py",
   "mimetype": "text/x-python",
   "name": "python",
   "nbconvert_exporter": "python",
   "pygments_lexer": "ipython3",
   "version": "3.6.5"
  }
 },
 "nbformat": 4,
 "nbformat_minor": 2
}
